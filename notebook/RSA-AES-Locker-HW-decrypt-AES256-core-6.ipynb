{
 "cells": [
  {
   "cell_type": "markdown",
   "id": "485031dc",
   "metadata": {},
   "source": [
    "# Import"
   ]
  },
  {
   "cell_type": "code",
   "execution_count": 1,
   "id": "0f5440bc",
   "metadata": {},
   "outputs": [
    {
     "data": {
      "application/javascript": [
       "\n",
       "try {\n",
       "require(['notebook/js/codecell'], function(codecell) {\n",
       "  codecell.CodeCell.options_default.highlight_modes[\n",
       "      'magic_text/x-csrc'] = {'reg':[/^%%microblaze/]};\n",
       "  Jupyter.notebook.events.one('kernel_ready.Kernel', function(){\n",
       "      Jupyter.notebook.get_cells().map(function(cell){\n",
       "          if (cell.cell_type == 'code'){ cell.auto_highlight(); } }) ;\n",
       "  });\n",
       "});\n",
       "} catch (e) {};\n"
      ]
     },
     "metadata": {},
     "output_type": "display_data"
    },
    {
     "data": {
      "application/javascript": [
       "\n",
       "try {\n",
       "require(['notebook/js/codecell'], function(codecell) {\n",
       "  codecell.CodeCell.options_default.highlight_modes[\n",
       "      'magic_text/x-csrc'] = {'reg':[/^%%pybind11/]};\n",
       "  Jupyter.notebook.events.one('kernel_ready.Kernel', function(){\n",
       "      Jupyter.notebook.get_cells().map(function(cell){\n",
       "          if (cell.cell_type == 'code'){ cell.auto_highlight(); } }) ;\n",
       "  });\n",
       "});\n",
       "} catch (e) {};\n"
      ]
     },
     "metadata": {},
     "output_type": "display_data"
    }
   ],
   "source": [
    "from pynq import Overlay\n",
    "from Crypto.Protocol.KDF import PBKDF2 \n",
    "from Crypto.Cipher import AES\n",
    "import numpy as np\n",
    "import time\n",
    "import os"
   ]
  },
  {
   "cell_type": "code",
   "execution_count": 2,
   "id": "eaf58755",
   "metadata": {},
   "outputs": [
    {
     "name": "stdout",
     "output_type": "stream",
     "text": [
      "/mnt/usb\n"
     ]
    }
   ],
   "source": [
    "%run ./linux_usb_mount.ipynb"
   ]
  },
  {
   "cell_type": "code",
   "execution_count": 3,
   "id": "17f9d88b",
   "metadata": {},
   "outputs": [],
   "source": [
    "%run ./AES_Utils.ipynb"
   ]
  },
  {
   "cell_type": "code",
   "execution_count": 4,
   "id": "8bb4a286",
   "metadata": {},
   "outputs": [],
   "source": [
    "%run ./AES_Cores.ipynb"
   ]
  },
  {
   "cell_type": "markdown",
   "id": "ea04c412",
   "metadata": {},
   "source": [
    "## Hardware encrypt"
   ]
  },
  {
   "cell_type": "code",
   "execution_count": 5,
   "id": "a420267a",
   "metadata": {},
   "outputs": [],
   "source": [
    "encrypt_file_source = os.path.join(usb_path,  \"Shakespeare_original.txt.encrypt\")"
   ]
  },
  {
   "cell_type": "code",
   "execution_count": 6,
   "id": "986659b2",
   "metadata": {},
   "outputs": [],
   "source": [
    "encrypt_file_source = os.path.join(usb_path,  \"ubuntu_original.iso.encrypt\")"
   ]
  },
  {
   "cell_type": "code",
   "execution_count": 7,
   "id": "4d482b84",
   "metadata": {},
   "outputs": [],
   "source": [
    "ol = Overlay(\"./bit/decrypt_aes256_150M_core6.bit\")"
   ]
  },
  {
   "cell_type": "code",
   "execution_count": 8,
   "id": "1521b6f4",
   "metadata": {},
   "outputs": [
    {
     "data": {
      "text/plain": [
       "dict_keys(['axi_dma_read_0', 'axi_dma_read_1', 'axi_dma_read_2', 'axi_dma_read_3', 'axi_dma_write_0', 'axi_dma_write_1', 'axi_dma_write_2', 'axi_dma_write_3', 'AES_ECB_decrypt_0', 'AES_ECB_decrypt_1', 'AES_ECB_decrypt_2', 'AES_ECB_decrypt_3', 'axi_dma_read_4', 'axi_dma_read_5', 'axi_dma_write_4', 'axi_dma_write_5', 'AES_ECB_decrypt_4', 'AES_ECB_decrypt_5', 'processing_system7_0'])"
      ]
     },
     "execution_count": 8,
     "metadata": {},
     "output_type": "execute_result"
    }
   ],
   "source": [
    "ol.ip_dict.keys()"
   ]
  },
  {
   "cell_type": "code",
   "execution_count": 9,
   "id": "eb481ef3",
   "metadata": {
    "scrolled": true
   },
   "outputs": [
    {
     "name": "stdout",
     "output_type": "stream",
     "text": [
      "AES_ECB_decrypt_0 self decrypt test success\n",
      "AES_ECB_decrypt_1 self decrypt test success\n",
      "AES_ECB_decrypt_2 self decrypt test success\n",
      "AES_ECB_decrypt_3 self decrypt test success\n",
      "AES_ECB_decrypt_4 self decrypt test success\n",
      "AES_ECB_decrypt_5 self decrypt test success\n"
     ]
    }
   ],
   "source": [
    "key = mkKeyByPassword(b\"Powerusb\")\n",
    "core_number = 6\n",
    "block_size = 10 * 1024 * 1024\n",
    "\n",
    "cores = [ AES_Core( \n",
    "    ol.__getattr__(f\"AES_ECB_decrypt_{i}\") ,\n",
    "    ol.__getattr__(f\"axi_dma_write_{i}\") ,\n",
    "    ol.__getattr__(f\"axi_dma_read_{i}\"),\n",
    "    key ,\n",
    "    block_size\n",
    ") for i in range(core_number)]"
   ]
  },
  {
   "cell_type": "code",
   "execution_count": 10,
   "id": "7c8dd99c",
   "metadata": {
    "scrolled": true
   },
   "outputs": [
    {
     "name": "stdout",
     "output_type": "stream",
     "text": [
      "Init success with 6 AES cores\n"
     ]
    }
   ],
   "source": [
    "aes_hw = AES_Schedule( cores,  block_size = block_size )"
   ]
  },
  {
   "cell_type": "code",
   "execution_count": 11,
   "id": "278f590b",
   "metadata": {},
   "outputs": [
    {
     "name": "stdout",
     "output_type": "stream",
     "text": [
      "start decrypt /mnt/usb/ubuntu_original.iso.encrypt with size 1016070160\n",
      "need do 96 time\n",
      "time: 123.22866725921631\n"
     ]
    }
   ],
   "source": [
    "start_time = time.time()\n",
    "aes_hw.enqueue_file( encrypt_file_source )\n",
    "aes_hw.start_decrypt_schedule()\n",
    "end_time = time.time()\n",
    "print(f\"time: {end_time - start_time}\")"
   ]
  },
  {
   "cell_type": "code",
   "execution_count": 12,
   "id": "dc6cc4f2",
   "metadata": {},
   "outputs": [
    {
     "name": "stdout",
     "output_type": "stream",
     "text": [
      "f5416aa419c6ef1941caf0832460a12a  /mnt/usb/ubuntu_original.iso.encrypt\n",
      "\n",
      "29ca9a17aeb497f5dd79f267649aaf71  /mnt/usb/ubuntu_original.iso.encrypt.decrypt\n",
      "\n"
     ]
    }
   ],
   "source": [
    "aes_hw.list_md5()"
   ]
  },
  {
   "cell_type": "code",
   "execution_count": null,
   "id": "bac06c6f",
   "metadata": {},
   "outputs": [],
   "source": []
  }
 ],
 "metadata": {
  "kernelspec": {
   "display_name": "Python 3",
   "language": "python",
   "name": "python3"
  },
  "language_info": {
   "codemirror_mode": {
    "name": "ipython",
    "version": 3
   },
   "file_extension": ".py",
   "mimetype": "text/x-python",
   "name": "python",
   "nbconvert_exporter": "python",
   "pygments_lexer": "ipython3",
   "version": "3.8.2"
  }
 },
 "nbformat": 4,
 "nbformat_minor": 5
}
