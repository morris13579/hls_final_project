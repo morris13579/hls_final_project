{
 "cells": [
  {
   "cell_type": "markdown",
   "id": "c9760aa4",
   "metadata": {},
   "source": [
    "## General"
   ]
  },
  {
   "cell_type": "code",
   "execution_count": 1,
   "id": "0f5440bc",
   "metadata": {},
   "outputs": [
    {
     "data": {
      "application/javascript": [
       "\n",
       "try {\n",
       "require(['notebook/js/codecell'], function(codecell) {\n",
       "  codecell.CodeCell.options_default.highlight_modes[\n",
       "      'magic_text/x-csrc'] = {'reg':[/^%%microblaze/]};\n",
       "  Jupyter.notebook.events.one('kernel_ready.Kernel', function(){\n",
       "      Jupyter.notebook.get_cells().map(function(cell){\n",
       "          if (cell.cell_type == 'code'){ cell.auto_highlight(); } }) ;\n",
       "  });\n",
       "});\n",
       "} catch (e) {};\n"
      ]
     },
     "metadata": {},
     "output_type": "display_data"
    },
    {
     "data": {
      "application/javascript": [
       "\n",
       "try {\n",
       "require(['notebook/js/codecell'], function(codecell) {\n",
       "  codecell.CodeCell.options_default.highlight_modes[\n",
       "      'magic_text/x-csrc'] = {'reg':[/^%%pybind11/]};\n",
       "  Jupyter.notebook.events.one('kernel_ready.Kernel', function(){\n",
       "      Jupyter.notebook.get_cells().map(function(cell){\n",
       "          if (cell.cell_type == 'code'){ cell.auto_highlight(); } }) ;\n",
       "  });\n",
       "});\n",
       "} catch (e) {};\n"
      ]
     },
     "metadata": {},
     "output_type": "display_data"
    }
   ],
   "source": [
    "import os\n",
    "from Crypto.Protocol.KDF import PBKDF2 \n",
    "from Crypto.Cipher import AES\n",
    "from pynq import Overlay\n",
    "from pynq import allocate\n",
    "import numpy as np\n",
    "import time\n",
    "import gc"
   ]
  },
  {
   "cell_type": "code",
   "execution_count": 2,
   "id": "4b5c05d9",
   "metadata": {},
   "outputs": [],
   "source": [
    "def prefix(num, decimal=2):\n",
    "    if decimal<0:\n",
    "        strformat = '%f'\n",
    "    else:\n",
    "        strformat = '%%.%df'%(decimal)\n",
    "    if num>=1000000000000:\n",
    "        return (strformat+' T')%(num/1000000000000)\n",
    "    elif num>=1000000000:\n",
    "        return (strformat+' G')%(num/1000000000)\n",
    "    elif num>=1000000:\n",
    "        return (strformat+' M')%(num/1000000)\n",
    "    elif num>=1000:\n",
    "        return (strformat+' k')%(num/1000)\n",
    "    else:\n",
    "        return '%s'%(num)"
   ]
  },
  {
   "cell_type": "code",
   "execution_count": 3,
   "id": "de38db64",
   "metadata": {},
   "outputs": [],
   "source": [
    "def pass_fail(condition):\n",
    "    return 'PASS' if condition else 'FAILED'"
   ]
  },
  {
   "cell_type": "markdown",
   "id": "6154d73c",
   "metadata": {},
   "source": [
    "###### Mount USB drive"
   ]
  },
  {
   "cell_type": "code",
   "execution_count": 4,
   "id": "02efd93d",
   "metadata": {},
   "outputs": [
    {
     "name": "stdout",
     "output_type": "stream",
     "text": [
      "/mnt/usb\n"
     ]
    }
   ],
   "source": [
    "%run ./linux_usb_mount.ipynb"
   ]
  },
  {
   "cell_type": "markdown",
   "id": "49b16591",
   "metadata": {},
   "source": [
    "######  Generate an AES key"
   ]
  },
  {
   "cell_type": "code",
   "execution_count": 5,
   "id": "657f8090",
   "metadata": {},
   "outputs": [],
   "source": [
    "#AES Utils\n",
    "%run ./AES_Utils.ipynb"
   ]
  },
  {
   "cell_type": "code",
   "execution_count": 6,
   "id": "fa8c6cff",
   "metadata": {},
   "outputs": [
    {
     "name": "stdout",
     "output_type": "stream",
     "text": [
      "b'\\x97\\xc6\\x17\\x85\\xe7(\\xa6\\x01\\xb8\\xd7\\x1d\\xa4L\\xb3\\x0b\\x1c#\\xff\\xfem\\x12\\x9d%\\xcc_\\xd7hVb\\\\\\x8d\\xfa'\n"
     ]
    }
   ],
   "source": [
    "print(key)"
   ]
  },
  {
   "cell_type": "code",
   "execution_count": 7,
   "id": "9193f5ba",
   "metadata": {},
   "outputs": [],
   "source": [
    "%run ./AES_Cores.ipynb"
   ]
  },
  {
   "cell_type": "code",
   "execution_count": 8,
   "id": "cef43498",
   "metadata": {},
   "outputs": [],
   "source": [
    "# Testing parameters"
   ]
  },
  {
   "cell_type": "code",
   "execution_count": 9,
   "id": "201187ca",
   "metadata": {},
   "outputs": [],
   "source": [
    "# TEST_GB_001 TEST_GB_002\n",
    "# TEST_MB_001 TEST_MB_005 TEST_MB_010 TEST_MB_050 TEST_MB_100 TEST_MB_500\n",
    "# TEST_kB_001 TEST_kB_005 TEST_kB_010 TEST_kB_050 TEST_kB_100 TEST_kB_500"
   ]
  },
  {
   "cell_type": "code",
   "execution_count": 10,
   "id": "d8c01626",
   "metadata": {},
   "outputs": [],
   "source": [
    "encrypt_file_source = os.path.join(usb_path+'/testFile/', \"TEST_kB_001\")"
   ]
  },
  {
   "cell_type": "code",
   "execution_count": 11,
   "id": "4b486c72",
   "metadata": {},
   "outputs": [],
   "source": [
    "encrypt_file_rename = encrypt_file_source+\".rename\""
   ]
  },
  {
   "cell_type": "markdown",
   "id": "f70c41a2",
   "metadata": {},
   "source": [
    "## Software"
   ]
  },
  {
   "cell_type": "markdown",
   "id": "f99a4672",
   "metadata": {},
   "source": [
    "###### Configuration"
   ]
  },
  {
   "cell_type": "code",
   "execution_count": 12,
   "id": "d739e9ff",
   "metadata": {},
   "outputs": [],
   "source": [
    "skip_software = False"
   ]
  },
  {
   "cell_type": "markdown",
   "id": "d2a8a2ec",
   "metadata": {},
   "source": [
    "###### Free memory"
   ]
  },
  {
   "cell_type": "code",
   "execution_count": 13,
   "id": "51b2a133",
   "metadata": {},
   "outputs": [
    {
     "data": {
      "text/plain": [
       "120"
      ]
     },
     "execution_count": 13,
     "metadata": {},
     "output_type": "execute_result"
    }
   ],
   "source": [
    "gc.collect()"
   ]
  },
  {
   "cell_type": "markdown",
   "id": "234f6e1a",
   "metadata": {},
   "source": [
    "###### Encrypt / Decrypt file"
   ]
  },
  {
   "cell_type": "code",
   "execution_count": 14,
   "id": "5ff429cb",
   "metadata": {},
   "outputs": [],
   "source": [
    "encrypt_extention = '.ECRYP'"
   ]
  },
  {
   "cell_type": "code",
   "execution_count": 15,
   "id": "20cf7d64",
   "metadata": {},
   "outputs": [],
   "source": [
    "def encryptFile(fileName, key, rename=None, batch_size_log2=24):\n",
    "    batch_size = int(2**batch_size_log2)\n",
    "    get_file_size = os.path.getsize(fileName)\n",
    "    file_size = get_file_size\n",
    "    if rename is None:\n",
    "        rename = fileName+encrypt_extention\n",
    "    try:\n",
    "        fr = open(fileName, 'rb')\n",
    "        fw = open(rename, 'wb')\n",
    "        #fw.write(b'ECRYP')\n",
    "        #fw.write(bytes([batch_size_log2]))\n",
    "        \n",
    "        while file_size>0:\n",
    "            content = fr.read(batch_size)\n",
    "            if file_size <= batch_size:\n",
    "                content = aesEncrypt(content, key, padding=True)\n",
    "            else:\n",
    "                content = aesEncrypt(content, key, padding=False)\n",
    "            fw.write(content)\n",
    "            file_size = file_size-batch_size\n",
    "    finally:\n",
    "        if fr:\n",
    "            fr.close()\n",
    "        if fw:\n",
    "            fw.close()\n",
    "    \n",
    "    return get_file_size"
   ]
  },
  {
   "cell_type": "code",
   "execution_count": 16,
   "id": "242288ab",
   "metadata": {},
   "outputs": [],
   "source": [
    "def decryptFile(fileName, key, rename=None, batch_size_log2=24):\n",
    "    if encrypt_extention == fileName[-len(encrypt_extention):]:\n",
    "        get_file_size = os.path.getsize(fileName)\n",
    "        file_size = get_file_size\n",
    "        if rename is None:\n",
    "            rename = fileName[:-len(encrypt_extention)]\n",
    "        try:\n",
    "            fr = open(fileName, 'rb')\n",
    "            #if fr.read(5) != b'ECRYP':\n",
    "            #    fr.close()\n",
    "            #    return False\n",
    "            #batch_size_log2 = int.from_bytes(fr.read(1), byteorder='big')\n",
    "\n",
    "            batch_size = 2**batch_size_log2\n",
    "            fw = open(rename, 'wb')\n",
    "\n",
    "            while file_size>0:\n",
    "                content = fr.read(batch_size)\n",
    "                if file_size <= batch_size:\n",
    "                    content = aesDecrypt(content, key, padding=True)\n",
    "                else:\n",
    "                    content = aesDecrypt(content, key, padding=False)\n",
    "                fw.write(content)\n",
    "                file_size = file_size-batch_size\n",
    "        finally:\n",
    "            if fr:\n",
    "                fr.close()\n",
    "            if fw:\n",
    "                fw.close()\n",
    "                \n",
    "        return True\n",
    "    else:\n",
    "        return False"
   ]
  },
  {
   "cell_type": "markdown",
   "id": "2df2d381",
   "metadata": {},
   "source": [
    "###### Testing"
   ]
  },
  {
   "cell_type": "code",
   "execution_count": 17,
   "id": "f920190f",
   "metadata": {},
   "outputs": [
    {
     "name": "stdout",
     "output_type": "stream",
     "text": [
      "Encrypting: /mnt/usb/testFile/TEST_kB_001\n",
      "File Size: 1.02 kB\n",
      "Duration: 0.005705 sec\n",
      "Encrypt done!\n",
      "\n"
     ]
    }
   ],
   "source": [
    "print(\"Encrypting: %s\"%(encrypt_file_source))\n",
    "\n",
    "sum_se_filesize = os.path.getsize(encrypt_file_source)\n",
    "print(\"File Size: %sB\"%(prefix(sum_se_filesize, decimal=2)))\n",
    "\n",
    "time_start = time.time()\n",
    "if not skip_software:\n",
    "    encryptFile(encrypt_file_source, key, rename = encrypt_file_rename+encrypt_extention)\n",
    "time_stop = time.time()\n",
    "\n",
    "sum_se_duration = time_stop - time_start\n",
    "print(\"Duration: %f sec\"%(sum_se_duration))\n",
    "\n",
    "print(\"Encrypt done!\\n\")"
   ]
  },
  {
   "cell_type": "code",
   "execution_count": 18,
   "id": "3b363455",
   "metadata": {},
   "outputs": [
    {
     "name": "stdout",
     "output_type": "stream",
     "text": [
      "Decrypting: /mnt/usb/testFile/TEST_kB_001.rename.ECRYP\n",
      "File Size: 1.02 kB\n",
      "Duration: 0.008269 sec\n",
      "Decrypt done!\n",
      "\n"
     ]
    }
   ],
   "source": [
    "print(\"Decrypting: %s\"%(encrypt_file_rename+encrypt_extention))\n",
    "\n",
    "if not skip_software:\n",
    "    sum_sd_filesize = os.path.getsize(encrypt_file_rename+encrypt_extention)\n",
    "else:\n",
    "    sum_sd_filesize = 0\n",
    "print(\"File Size: %sB\"%(prefix(sum_se_filesize, decimal=2)))\n",
    "\n",
    "time_start = time.time()\n",
    "if not skip_software:\n",
    "    decryptFile(encrypt_file_rename+encrypt_extention, key)\n",
    "time_stop = time.time()\n",
    "\n",
    "sum_sd_duration = time_stop - time_start\n",
    "print(\"Duration: %f sec\"%(sum_sd_duration))\n",
    "\n",
    "print(\"Decrypt done!\\n\")"
   ]
  },
  {
   "cell_type": "markdown",
   "id": "0ede010f",
   "metadata": {},
   "source": [
    "###### Checksum"
   ]
  },
  {
   "cell_type": "code",
   "execution_count": 19,
   "id": "8a44750d",
   "metadata": {},
   "outputs": [
    {
     "name": "stdout",
     "output_type": "stream",
     "text": [
      "a7c12e120cc47e5c11efa6b837f9df93  /mnt/usb/testFile/TEST_kB_001\n",
      "\n",
      "04a3012cc58771095c306a8d7cd8299d  /mnt/usb/testFile/TEST_kB_001.rename.ECRYP\n",
      "\n",
      "a7c12e120cc47e5c11efa6b837f9df93  /mnt/usb/testFile/TEST_kB_001.rename\n",
      "\n"
     ]
    }
   ],
   "source": [
    "if not skip_software:\n",
    "    sum_so_md5 = cmd(\"md5sum %s\"%(encrypt_file_source))\n",
    "    print(sum_so_md5)\n",
    "    sum_so_md5 = sum_so_md5.split(\" \")[0]\n",
    "    sum_se_md5 = cmd(\"md5sum %s\"%(encrypt_file_rename+encrypt_extention))\n",
    "    print(sum_se_md5)\n",
    "    sum_se_md5 = sum_se_md5.split(\" \")[0]\n",
    "    sum_sd_md5 = cmd(\"md5sum %s\"%(encrypt_file_rename))\n",
    "    print(sum_sd_md5)\n",
    "    sum_sd_md5 = sum_sd_md5.split(\" \")[0]\n",
    "else:\n",
    "    sum_so_md5='SKIP-000'\n",
    "    sum_se_md5='SKIP-001'\n",
    "    sum_sd_md5='SKIP-002'"
   ]
  },
  {
   "cell_type": "markdown",
   "id": "f398418f",
   "metadata": {},
   "source": [
    "###### Delete files"
   ]
  },
  {
   "cell_type": "code",
   "execution_count": 20,
   "id": "6c4aafe7",
   "metadata": {},
   "outputs": [
    {
     "name": "stdout",
     "output_type": "stream",
     "text": [
      "\n",
      "\n"
     ]
    }
   ],
   "source": [
    "print(cmd(\"rm -f %s\"%(encrypt_file_rename+encrypt_extention)))\n",
    "print(cmd(\"rm -f %s\"%(encrypt_file_rename)))"
   ]
  },
  {
   "cell_type": "markdown",
   "id": "2ce06b10",
   "metadata": {},
   "source": [
    "## Hardware"
   ]
  },
  {
   "cell_type": "markdown",
   "id": "d9e837f1",
   "metadata": {},
   "source": [
    "###### Configuration"
   ]
  },
  {
   "cell_type": "code",
   "execution_count": 21,
   "id": "c832f6f2",
   "metadata": {},
   "outputs": [],
   "source": [
    "hardware_encrypt_overlay = \"./bit/encrypt_aes256_150M_core6.bit\"\n",
    "hardware_decrypt_overlay = \"./bit/decrypt_aes256_150M_core6.bit\"\n",
    "hardware_core_count = 6\n",
    "hardware_block_size = 2**23\n",
    "hardware_self_test = True"
   ]
  },
  {
   "cell_type": "markdown",
   "id": "3a461a54",
   "metadata": {},
   "source": [
    "###### Free memory"
   ]
  },
  {
   "cell_type": "code",
   "execution_count": 22,
   "id": "a862c3ea",
   "metadata": {},
   "outputs": [
    {
     "data": {
      "text/plain": [
       "20"
      ]
     },
     "execution_count": 22,
     "metadata": {},
     "output_type": "execute_result"
    }
   ],
   "source": [
    "gc.collect()"
   ]
  },
  {
   "cell_type": "markdown",
   "id": "f35da571",
   "metadata": {},
   "source": [
    "#### Encrypt file"
   ]
  },
  {
   "cell_type": "code",
   "execution_count": 23,
   "id": "3e5aba18",
   "metadata": {},
   "outputs": [],
   "source": [
    "ol = Overlay(hardware_encrypt_overlay)"
   ]
  },
  {
   "cell_type": "code",
   "execution_count": 24,
   "id": "b011399a",
   "metadata": {},
   "outputs": [
    {
     "name": "stdout",
     "output_type": "stream",
     "text": [
      "AES_ECB_encrypt_0 self encrypt test success\n",
      "AES_ECB_encrypt_1 self encrypt test success\n",
      "AES_ECB_encrypt_2 self encrypt test success\n",
      "AES_ECB_encrypt_3 self encrypt test success\n",
      "AES_ECB_encrypt_4 self encrypt test success\n",
      "AES_ECB_encrypt_5 self encrypt test success\n"
     ]
    }
   ],
   "source": [
    "core_number = hardware_core_count\n",
    "block_size = hardware_block_size\n",
    "\n",
    "cores = [ AES_Core( \n",
    "    ol.__getattr__(f\"AES_ECB_encrypt_{i}\") ,\n",
    "    ol.__getattr__(f\"axi_dma_write_{i}\") ,\n",
    "    ol.__getattr__(f\"axi_dma_read_{i}\"),\n",
    "    key ,\n",
    "    block_size,\n",
    "    self_test = hardware_self_test\n",
    ") for i in range(core_number)]"
   ]
  },
  {
   "cell_type": "code",
   "execution_count": 25,
   "id": "d294eb9a",
   "metadata": {
    "scrolled": true
   },
   "outputs": [
    {
     "name": "stdout",
     "output_type": "stream",
     "text": [
      "Init success with 6 AES cores\n"
     ]
    }
   ],
   "source": [
    "aes_hw = AES_Schedule( cores,  block_size = block_size )"
   ]
  },
  {
   "cell_type": "markdown",
   "id": "e3344716",
   "metadata": {},
   "source": [
    "###### Testing"
   ]
  },
  {
   "cell_type": "code",
   "execution_count": 26,
   "id": "70b48484",
   "metadata": {
    "scrolled": true
   },
   "outputs": [
    {
     "name": "stdout",
     "output_type": "stream",
     "text": [
      "File Size: 1.02 kB\n",
      "start encrypt /mnt/usb/testFile/TEST_kB_001 with size 1024\n",
      "need do 0 time\n",
      "\n",
      "time: 1.4670977592468262\n"
     ]
    }
   ],
   "source": [
    "sum_he_filesize = os.path.getsize(encrypt_file_source)\n",
    "print(\"File Size: %sB\"%(prefix(sum_he_filesize, decimal=2)))\n",
    "start_time = time.time()\n",
    "aes_hw.enqueue_file(file=encrypt_file_source)\n",
    "aes_hw.start_encrypt_schedule()\n",
    "end_time = time.time()\n",
    "sum_he_duration = end_time - start_time\n",
    "print(f\"time: {sum_he_duration}\")"
   ]
  },
  {
   "cell_type": "markdown",
   "id": "35a3d5ce",
   "metadata": {},
   "source": [
    "###### Free memory"
   ]
  },
  {
   "cell_type": "code",
   "execution_count": 27,
   "id": "d21d4273",
   "metadata": {},
   "outputs": [
    {
     "data": {
      "text/plain": [
       "60"
      ]
     },
     "execution_count": 27,
     "metadata": {},
     "output_type": "execute_result"
    }
   ],
   "source": [
    "del ol\n",
    "del aes_hw\n",
    "gc.collect()"
   ]
  },
  {
   "cell_type": "markdown",
   "id": "3d64e854",
   "metadata": {},
   "source": [
    "#### Decrypt file"
   ]
  },
  {
   "cell_type": "code",
   "execution_count": 28,
   "id": "9442a2d6",
   "metadata": {},
   "outputs": [],
   "source": [
    "ol = Overlay(hardware_decrypt_overlay)"
   ]
  },
  {
   "cell_type": "code",
   "execution_count": 29,
   "id": "89f60031",
   "metadata": {},
   "outputs": [
    {
     "name": "stdout",
     "output_type": "stream",
     "text": [
      "AES_ECB_decrypt_0 self decrypt test success\n",
      "AES_ECB_decrypt_1 self decrypt test success\n",
      "AES_ECB_decrypt_2 self decrypt test success\n",
      "AES_ECB_decrypt_3 self decrypt test success\n",
      "AES_ECB_decrypt_4 self decrypt test success\n",
      "AES_ECB_decrypt_5 self decrypt test success\n"
     ]
    }
   ],
   "source": [
    "core_number = hardware_core_count\n",
    "block_size = hardware_block_size\n",
    "\n",
    "for i,core in enumerate(cores):\n",
    "    core.init(\n",
    "        ol.__getattr__(f\"AES_ECB_decrypt_{i}\") ,\n",
    "        ol.__getattr__(f\"axi_dma_write_{i}\") ,\n",
    "        ol.__getattr__(f\"axi_dma_read_{i}\"),\n",
    "        key ,\n",
    "        self_test = hardware_self_test\n",
    "    )"
   ]
  },
  {
   "cell_type": "code",
   "execution_count": 30,
   "id": "3ee0f057",
   "metadata": {},
   "outputs": [
    {
     "name": "stdout",
     "output_type": "stream",
     "text": [
      "Init success with 6 AES cores\n"
     ]
    }
   ],
   "source": [
    "aes_hw = AES_Schedule( cores,  block_size = block_size )"
   ]
  },
  {
   "cell_type": "markdown",
   "id": "f923f491",
   "metadata": {},
   "source": [
    "###### Testing"
   ]
  },
  {
   "cell_type": "code",
   "execution_count": 31,
   "id": "f07d46fe",
   "metadata": {},
   "outputs": [
    {
     "name": "stdout",
     "output_type": "stream",
     "text": [
      "File Size: 1.02 kB\n",
      "start decrypt /mnt/usb/testFile/TEST_kB_001.encrypt with size 1040\n",
      "need do 0 time\n",
      "\n",
      "time: 1.4555861949920654\n"
     ]
    }
   ],
   "source": [
    "sum_hd_filesize = os.path.getsize(encrypt_file_source)\n",
    "print(\"File Size: %sB\"%(prefix(sum_hd_filesize, decimal=2)))\n",
    "start_time = time.time()\n",
    "aes_hw.enqueue_file(file=encrypt_file_source+'.encrypt')\n",
    "aes_hw.start_decrypt_schedule()\n",
    "end_time = time.time()\n",
    "sum_hd_duration = end_time - start_time\n",
    "print(f\"time: {sum_hd_duration}\")"
   ]
  },
  {
   "cell_type": "markdown",
   "id": "276dac2c",
   "metadata": {},
   "source": [
    "###### Checksum"
   ]
  },
  {
   "cell_type": "code",
   "execution_count": 32,
   "id": "e4a9d9b1",
   "metadata": {},
   "outputs": [
    {
     "name": "stdout",
     "output_type": "stream",
     "text": [
      "a7c12e120cc47e5c11efa6b837f9df93  /mnt/usb/testFile/TEST_kB_001\n",
      "\n",
      "04a3012cc58771095c306a8d7cd8299d  /mnt/usb/testFile/TEST_kB_001.encrypt\n",
      "\n",
      "a7c12e120cc47e5c11efa6b837f9df93  /mnt/usb/testFile/TEST_kB_001.encrypt.decrypt\n",
      "\n"
     ]
    }
   ],
   "source": [
    "sum_ho_md5 = cmd(\"md5sum %s\"%(encrypt_file_source))\n",
    "print(sum_ho_md5)\n",
    "sum_ho_md5 = sum_ho_md5.split(\" \")[0]\n",
    "sum_he_md5 = cmd(\"md5sum %s\"%(encrypt_file_source+'.encrypt'))\n",
    "print(sum_he_md5)\n",
    "sum_he_md5 = sum_he_md5.split(\" \")[0]\n",
    "sum_hd_md5 = cmd(\"md5sum %s\"%(encrypt_file_source+'.encrypt'+'.decrypt'))\n",
    "print(sum_hd_md5)\n",
    "sum_hd_md5 = sum_hd_md5.split(\" \")[0]"
   ]
  },
  {
   "cell_type": "markdown",
   "id": "016335fe",
   "metadata": {},
   "source": [
    "###### Delete files"
   ]
  },
  {
   "cell_type": "code",
   "execution_count": 33,
   "id": "a7ab0f45",
   "metadata": {},
   "outputs": [
    {
     "name": "stdout",
     "output_type": "stream",
     "text": [
      "\n",
      "\n"
     ]
    }
   ],
   "source": [
    "print(cmd(\"rm -f %s\"%(encrypt_file_source+'.encrypt')))\n",
    "print(cmd(\"rm -f %s\"%(encrypt_file_source+'.encrypt'+'.decrypt')))"
   ]
  },
  {
   "cell_type": "markdown",
   "id": "d610b457",
   "metadata": {},
   "source": [
    "###### Free memory"
   ]
  },
  {
   "cell_type": "code",
   "execution_count": 34,
   "id": "eb9eb11b",
   "metadata": {},
   "outputs": [
    {
     "data": {
      "text/plain": [
       "148"
      ]
     },
     "execution_count": 34,
     "metadata": {},
     "output_type": "execute_result"
    }
   ],
   "source": [
    "del ol\n",
    "del aes_hw\n",
    "gc.collect()"
   ]
  },
  {
   "cell_type": "markdown",
   "id": "f259ad48",
   "metadata": {},
   "source": [
    "## ========================================="
   ]
  },
  {
   "cell_type": "markdown",
   "id": "184b1e5a",
   "metadata": {},
   "source": [
    "## Summary"
   ]
  },
  {
   "cell_type": "markdown",
   "id": "58b22ac7",
   "metadata": {},
   "source": [
    "#### Information"
   ]
  },
  {
   "cell_type": "code",
   "execution_count": 35,
   "id": "90d6fec6",
   "metadata": {},
   "outputs": [
    {
     "name": "stdout",
     "output_type": "stream",
     "text": [
      "Target File          /mnt/usb/testFile/TEST_kB_001                                                   \n",
      "File Size            1.024000 kB                                                                     \n"
     ]
    }
   ],
   "source": [
    "print('%-20s %-80s'%('Target File', encrypt_file_source))\n",
    "print('%-20s %-80s'%('File Size', prefix(os.path.getsize(encrypt_file_source),decimal=-1)+'B'))"
   ]
  },
  {
   "cell_type": "markdown",
   "id": "1906bb19",
   "metadata": {},
   "source": [
    "#### Performance"
   ]
  },
  {
   "cell_type": "code",
   "execution_count": 36,
   "id": "aa9aaca0",
   "metadata": {},
   "outputs": [
    {
     "name": "stdout",
     "output_type": "stream",
     "text": [
      "                     Software EN     Software DE     Hardware EN     Hardware DE    \n",
      "Handle File Size     1.024000 kB     1.040000 kB     1.024000 kB     1.024000 kB    \n",
      "Duration             0.0057          0.0083          1.4671          1.4556         \n",
      "Bytes/s              179.50 kB/s     125.77 kB/s     697.9766641629237B/s 703.4966417812049B/s\n"
     ]
    }
   ],
   "source": [
    "print('%-20s %-15s %-15s %-15s %-15s'%('', 'Software EN', 'Software DE', 'Hardware EN', 'Hardware DE'))\n",
    "print('%-20s %-15s %-15s %-15s %-15s'%('Handle File Size', prefix(sum_se_filesize,decimal=-1)+'B', prefix(sum_sd_filesize,decimal=-1)+'B', prefix(sum_he_filesize,decimal=-1)+'B', prefix(sum_hd_filesize,decimal=-1)+'B'))\n",
    "print('%-20s %-15.4f %-15.4f %-15.4f %-15.4f'%('Duration', sum_se_duration, sum_sd_duration, sum_he_duration, sum_hd_duration))\n",
    "print('%-20s %-15s %-15s %-15s %-15s'%('Bytes/s', prefix(sum_se_filesize/sum_se_duration)+'B/s', prefix(sum_sd_filesize/sum_sd_duration)+'B/s', prefix(sum_he_filesize/sum_he_duration)+'B/s', prefix(sum_hd_filesize/sum_hd_duration)+'B/s'))"
   ]
  },
  {
   "cell_type": "markdown",
   "id": "c8a10447",
   "metadata": {},
   "source": [
    "#### Correctness"
   ]
  },
  {
   "cell_type": "code",
   "execution_count": 37,
   "id": "b656f166",
   "metadata": {},
   "outputs": [
    {
     "name": "stdout",
     "output_type": "stream",
     "text": [
      "MD5 Checksum    Software                            Hardware                                   \n",
      "Source File     a7c12e120cc47e5c11efa6b837f9df93    a7c12e120cc47e5c11efa6b837f9df93    PASS   \n",
      "Encrypted       04a3012cc58771095c306a8d7cd8299d    04a3012cc58771095c306a8d7cd8299d    PASS   \n",
      "Recovery        a7c12e120cc47e5c11efa6b837f9df93    a7c12e120cc47e5c11efa6b837f9df93    PASS   \n",
      "                PASS                                PASS                                       \n"
     ]
    }
   ],
   "source": [
    "print('%-15s %-35s %-35s %-7s'%('MD5 Checksum', 'Software', 'Hardware', ''))\n",
    "print('%-15s %-35s %-35s %-7s'%('Source File', sum_so_md5, sum_ho_md5, pass_fail(sum_so_md5==sum_ho_md5)))\n",
    "print('%-15s %-35s %-35s %-7s'%('Encrypted', sum_se_md5, sum_he_md5, pass_fail(sum_se_md5==sum_he_md5)))\n",
    "print('%-15s %-35s %-35s %-7s'%('Recovery', sum_sd_md5, sum_hd_md5, pass_fail(sum_sd_md5==sum_hd_md5)))\n",
    "print('%-15s %-35s %-35s %-7s'%('', pass_fail(sum_so_md5==sum_sd_md5), pass_fail(sum_ho_md5==sum_hd_md5), ''))"
   ]
  },
  {
   "cell_type": "markdown",
   "id": "764fd3c4",
   "metadata": {},
   "source": [
    "## ========================================="
   ]
  },
  {
   "cell_type": "code",
   "execution_count": null,
   "id": "f3a8b633",
   "metadata": {},
   "outputs": [],
   "source": []
  },
  {
   "cell_type": "code",
   "execution_count": 38,
   "id": "abf9c908",
   "metadata": {},
   "outputs": [],
   "source": [
    "# TEST_GB_001 TEST_GB_002\n",
    "# TEST_MB_001 TEST_MB_005 TEST_MB_010 TEST_MB_050 TEST_MB_100 TEST_MB_500\n",
    "# TEST_kB_001 TEST_kB_005 TEST_kB_010 TEST_kB_050 TEST_kB_100 TEST_kB_500"
   ]
  },
  {
   "cell_type": "code",
   "execution_count": 47,
   "id": "3750a110",
   "metadata": {},
   "outputs": [],
   "source": [
    "#soft_skip_condition=['TEST_GB_002','TEST_GB_001', 'TEST_MB_500', 'TEST_MB_100', 'TEST_MB_050', 'TEST_MB_010', 'TEST_MB_005', 'TEST_MB_001']\n",
    "soft_skip_condition=['TEST_GB_002','TEST_GB_001']"
   ]
  },
  {
   "cell_type": "markdown",
   "id": "1007fab1",
   "metadata": {},
   "source": [
    "# Software Batch"
   ]
  },
  {
   "cell_type": "code",
   "execution_count": 48,
   "id": "fad583f4",
   "metadata": {},
   "outputs": [],
   "source": [
    "encrypt_extention = '.en'\n",
    "batch_size_log2 = 23"
   ]
  },
  {
   "cell_type": "code",
   "execution_count": 50,
   "id": "cb414002",
   "metadata": {},
   "outputs": [
    {
     "name": "stdout",
     "output_type": "stream",
     "text": [
      "-----------------------------------------\n",
      "Encrypting: /mnt/usb/testFile/TEST_kB_001\n",
      "File Size: 1.02 kB\n",
      "Duration: 0.002596 sec\n",
      "-----------------------------------------\n",
      "Encrypting: /mnt/usb/testFile/TEST_kB_005\n",
      "File Size: 5.12 kB\n",
      "Duration: 0.004682 sec\n",
      "-----------------------------------------\n",
      "Encrypting: /mnt/usb/testFile/TEST_kB_010\n",
      "File Size: 10.24 kB\n",
      "Duration: 0.006776 sec\n",
      "-----------------------------------------\n",
      "Encrypting: /mnt/usb/testFile/TEST_kB_050\n",
      "File Size: 51.20 kB\n",
      "Duration: 0.010499 sec\n",
      "-----------------------------------------\n",
      "Encrypting: /mnt/usb/testFile/TEST_kB_100\n",
      "File Size: 102.40 kB\n",
      "Duration: 0.019850 sec\n",
      "-----------------------------------------\n",
      "Encrypting: /mnt/usb/testFile/TEST_kB_500\n",
      "File Size: 512.00 kB\n",
      "Duration: 0.087920 sec\n",
      "-----------------------------------------\n",
      "Encrypting: /mnt/usb/testFile/TEST_MB_001\n",
      "File Size: 1.05 MB\n",
      "Duration: 0.181009 sec\n",
      "-----------------------------------------\n",
      "Encrypting: /mnt/usb/testFile/TEST_MB_005\n",
      "File Size: 5.24 MB\n",
      "Duration: 0.888739 sec\n",
      "-----------------------------------------\n",
      "Encrypting: /mnt/usb/testFile/TEST_MB_010\n",
      "File Size: 10.49 MB\n",
      "Duration: 1.742327 sec\n",
      "-----------------------------------------\n",
      "Encrypting: /mnt/usb/testFile/TEST_MB_050\n",
      "File Size: 52.43 MB\n",
      "Duration: 12.243314 sec\n",
      "-----------------------------------------\n",
      "Encrypting: /mnt/usb/testFile/TEST_MB_100\n",
      "File Size: 104.86 MB\n",
      "Duration: 26.696393 sec\n",
      "-----------------------------------------\n",
      "Encrypting: /mnt/usb/testFile/TEST_MB_500\n",
      "File Size: 524.29 MB\n",
      "Duration: 135.293100 sec\n",
      "-----------------------------------------\n",
      "Encrypt done!\n",
      "\n",
      "[1024, 5120, 10240, 51200, 102400, 512000, 1048576, 5242880, 10485760, 52428800, 104857600, 524288000]\n",
      "[0.002595663070678711, 0.004682302474975586, 0.006775617599487305, 0.010498523712158203, 0.019849538803100586, 0.08791995048522949, 0.18100881576538086, 0.8887393474578857, 1.7423269748687744, 12.243314266204834, 26.696393251419067, 135.2930998802185]\n"
     ]
    }
   ],
   "source": [
    "def batch_software_en(path = r'/mnt/usb/testFile'):\n",
    "    filesize_list=[]\n",
    "    duration_list=[]\n",
    "    for root, dirs, files in os.walk(path):\n",
    "        for fileName in files:\n",
    "            if fileName in soft_skip_condition:\n",
    "                continue\n",
    "            if \".goal\"+encrypt_extention in fileName:\n",
    "                continue\n",
    "            print(\"-----------------------------------------\")\n",
    "            full_file_name = os.path.join(root, fileName)\n",
    "            print(\"Encrypting: %s\"%(full_file_name))\n",
    "            sum_se_filesize = os.path.getsize(full_file_name)\n",
    "            print(\"File Size: %sB\"%(prefix(sum_se_filesize, decimal=2)))\n",
    "            time_start = time.time()\n",
    "            encryptFile(full_file_name, key, rename = full_file_name+\".goal\"+encrypt_extention, batch_size_log2=batch_size_log2)\n",
    "            time_stop = time.time()\n",
    "            sum_se_duration = time_stop - time_start\n",
    "            print(\"Duration: %f sec\"%(sum_se_duration))\n",
    "            filesize_list.append(sum_se_filesize)\n",
    "            duration_list.append(sum_se_duration)\n",
    "    print(\"-----------------------------------------\")\n",
    "    print(\"Encrypt done!\\n\")\n",
    "    print(filesize_list)\n",
    "    print(duration_list)\n",
    "batch_software_en()\n"
   ]
  },
  {
   "cell_type": "code",
   "execution_count": 57,
   "id": "ac3f560a",
   "metadata": {},
   "outputs": [
    {
     "name": "stdout",
     "output_type": "stream",
     "text": [
      "-----------------------------------------\n",
      "batch_size_log: 23\n",
      "File Size: 1.05 MB\n",
      "Duration: 0.183525 sec\n",
      "-----------------------------------------\n",
      "batch_size_log: 22\n",
      "File Size: 1.05 MB\n",
      "Duration: 0.143247 sec\n",
      "-----------------------------------------\n",
      "batch_size_log: 21\n",
      "File Size: 1.05 MB\n",
      "Duration: 0.142121 sec\n",
      "-----------------------------------------\n",
      "batch_size_log: 20\n",
      "File Size: 1.05 MB\n",
      "Duration: 0.143171 sec\n",
      "-----------------------------------------\n",
      "batch_size_log: 19\n",
      "File Size: 1.05 MB\n",
      "Duration: 0.136430 sec\n",
      "-----------------------------------------\n",
      "batch_size_log: 18\n",
      "File Size: 1.05 MB\n",
      "Duration: 0.131856 sec\n",
      "-----------------------------------------\n",
      "batch_size_log: 17\n",
      "File Size: 1.05 MB\n",
      "Duration: 0.138259 sec\n",
      "-----------------------------------------\n",
      "Encrypt done!\n",
      "\n",
      "[1048576, 1048576, 1048576, 1048576, 1048576, 1048576, 1048576]\n",
      "[0.18352532386779785, 0.14324665069580078, 0.1421213150024414, 0.14317083358764648, 0.1364302635192871, 0.13185572624206543, 0.1382594108581543]\n"
     ]
    }
   ],
   "source": [
    "def batch_software_en_batchsize(path = r'/mnt/usb/testFile/TEST_MB_001'):\n",
    "    batchsize = [23,22,21,20,19,18,17]\n",
    "    filesize_list=[]\n",
    "    duration_list=[]\n",
    "    for batch_size_log in batchsize:\n",
    "        print(\"-----------------------------------------\")\n",
    "        full_file_name = path\n",
    "        print(\"batch_size_log: %s\"%(batch_size_log))\n",
    "        sum_se_filesize = os.path.getsize(full_file_name)\n",
    "        print(\"File Size: %sB\"%(prefix(sum_se_filesize, decimal=2)))\n",
    "        time_start = time.time()\n",
    "        encryptFile(full_file_name, key, rename = full_file_name+\".goal\"+encrypt_extention, batch_size_log2=batch_size_log)\n",
    "        time_stop = time.time()\n",
    "        sum_se_duration = time_stop - time_start\n",
    "        print(\"Duration: %f sec\"%(sum_se_duration))\n",
    "        filesize_list.append(sum_se_filesize)\n",
    "        duration_list.append(sum_se_duration)\n",
    "    print(\"-----------------------------------------\")\n",
    "    print(\"Encrypt done!\\n\")\n",
    "    print(filesize_list)\n",
    "    print(duration_list)\n",
    "batch_software_en_batchsize()\n"
   ]
  },
  {
   "cell_type": "code",
   "execution_count": 44,
   "id": "33e4e36e",
   "metadata": {},
   "outputs": [
    {
     "name": "stdout",
     "output_type": "stream",
     "text": [
      "-----------------------------------------\n",
      "Decrypting: /mnt/usb/testFile/TEST_GB_001.goal.en\n",
      "File Size: 1.07 GB\n",
      "Duration: 265.179558 sec\n",
      "-----------------------------------------\n",
      "Decrypting: /mnt/usb/testFile/TEST_kB_001.goal.en\n",
      "File Size: 1.04 kB\n",
      "Duration: 0.035326 sec\n",
      "-----------------------------------------\n",
      "Decrypting: /mnt/usb/testFile/TEST_kB_005.goal.en\n",
      "File Size: 5.14 kB\n",
      "Duration: 0.022735 sec\n",
      "-----------------------------------------\n",
      "Decrypting: /mnt/usb/testFile/TEST_kB_010.goal.en\n",
      "File Size: 10.26 kB\n",
      "Duration: 0.026287 sec\n",
      "-----------------------------------------\n",
      "Decrypting: /mnt/usb/testFile/TEST_kB_050.goal.en\n",
      "File Size: 51.22 kB\n",
      "Duration: 0.034928 sec\n",
      "-----------------------------------------\n",
      "Decrypting: /mnt/usb/testFile/TEST_kB_100.goal.en\n",
      "File Size: 102.42 kB\n",
      "Duration: 0.036724 sec\n",
      "-----------------------------------------\n",
      "Decrypting: /mnt/usb/testFile/TEST_kB_500.goal.en\n",
      "File Size: 512.02 kB\n",
      "Duration: 0.176370 sec\n",
      "-----------------------------------------\n",
      "Decrypting: /mnt/usb/testFile/TEST_MB_001.goal.en\n",
      "File Size: 1.05 MB\n",
      "Duration: 0.413996 sec\n",
      "-----------------------------------------\n",
      "Decrypting: /mnt/usb/testFile/TEST_MB_005.goal.en\n",
      "File Size: 5.24 MB\n",
      "Duration: 2.102604 sec\n",
      "-----------------------------------------\n",
      "Decrypting: /mnt/usb/testFile/TEST_MB_010.goal.en\n",
      "File Size: 10.49 MB\n",
      "Duration: 1.718199 sec\n",
      "-----------------------------------------\n",
      "Decrypting: /mnt/usb/testFile/TEST_MB_050.goal.en\n",
      "File Size: 52.43 MB\n",
      "Duration: 12.523646 sec\n",
      "-----------------------------------------\n",
      "Decrypting: /mnt/usb/testFile/TEST_MB_100.goal.en\n",
      "File Size: 104.86 MB\n",
      "Duration: 27.660675 sec\n",
      "-----------------------------------------\n",
      "Decrypting: /mnt/usb/testFile/TEST_MB_500.goal.en\n",
      "File Size: 524.29 MB\n",
      "Duration: 132.739860 sec\n",
      "-----------------------------------------\n",
      "Decrypt done!\n",
      "\n",
      "[1073741840, 1040, 5136, 10256, 51216, 102416, 512016, 1048592, 5242896, 10485776, 52428816, 104857616, 524288016]\n",
      "[265.1795582771301, 0.03532600402832031, 0.0227353572845459, 0.026287317276000977, 0.034928321838378906, 0.036724090576171875, 0.17637014389038086, 0.41399598121643066, 2.1026041507720947, 1.7181992530822754, 12.523646354675293, 27.660675048828125, 132.7398602962494]\n"
     ]
    }
   ],
   "source": [
    "def batch_software_de(path = r'/mnt/usb/testFile'):\n",
    "    filesize_list=[]\n",
    "    duration_list=[]\n",
    "    for root, dirs, files in os.walk(path):\n",
    "        for fileName in files:\n",
    "            if \".goal\"+encrypt_extention not in fileName:\n",
    "                continue\n",
    "            print(\"-----------------------------------------\")\n",
    "            full_file_name = os.path.join(root, fileName)\n",
    "            print(\"Decrypting: %s\"%(full_file_name))\n",
    "            sum_se_filesize = os.path.getsize(full_file_name)\n",
    "            print(\"File Size: %sB\"%(prefix(sum_se_filesize, decimal=2)))\n",
    "            time_start = time.time()\n",
    "            decryptFile(full_file_name, key, batch_size_log2=batch_size_log2)\n",
    "            time_stop = time.time()\n",
    "            sum_se_duration = time_stop - time_start\n",
    "            print(\"Duration: %f sec\"%(sum_se_duration))\n",
    "            filesize_list.append(sum_se_filesize)\n",
    "            duration_list.append(sum_se_duration)\n",
    "    print(\"-----------------------------------------\")\n",
    "    print(\"Decrypt done!\\n\")\n",
    "    print(filesize_list)\n",
    "    print(duration_list)\n",
    "batch_software_de()"
   ]
  },
  {
   "cell_type": "code",
   "execution_count": 45,
   "id": "a3290a50",
   "metadata": {},
   "outputs": [],
   "source": [
    "def batch_md5(path = r'/mnt/usb/testFile'):\n",
    "    for root, dirs, files in os.walk(path):\n",
    "        for fileName in files:\n",
    "            if fileName in soft_skip_condition:\n",
    "                continue\n",
    "            print(cmd('md5sum %s'%(os.path.join(root, fileName))))\n",
    "#batch_md5()"
   ]
  },
  {
   "cell_type": "code",
   "execution_count": 70,
   "id": "6a00c01f",
   "metadata": {},
   "outputs": [],
   "source": [
    "r=cmd('rm /mnt/usb/testFile/*.goal*')"
   ]
  },
  {
   "cell_type": "markdown",
   "id": "a664af90",
   "metadata": {},
   "source": [
    "# Hardware Batch"
   ]
  },
  {
   "cell_type": "markdown",
   "id": "8adbba5f",
   "metadata": {},
   "source": [
    "###### Free memory"
   ]
  },
  {
   "cell_type": "code",
   "execution_count": 58,
   "id": "8be79a0d",
   "metadata": {},
   "outputs": [
    {
     "data": {
      "text/plain": [
       "430"
      ]
     },
     "execution_count": 58,
     "metadata": {},
     "output_type": "execute_result"
    }
   ],
   "source": [
    "gc.collect()"
   ]
  },
  {
   "cell_type": "markdown",
   "id": "b823b99a",
   "metadata": {},
   "source": [
    "###### Configuration"
   ]
  },
  {
   "cell_type": "code",
   "execution_count": 59,
   "id": "3317fecf",
   "metadata": {},
   "outputs": [],
   "source": [
    "hardware_encrypt_overlay = \"./bit/encrypt_aes256_150M_core6.bit\"\n",
    "hardware_decrypt_overlay = \"./bit/decrypt_aes256_150M_core6.bit\"\n",
    "hardware_core_count = 6\n",
    "hardware_block_size = 2**23\n",
    "hardware_self_test = True\n",
    "hard_skip_condition=['TEST_GB_002']\n",
    "#hard_skip_condition=['TEST_GB_002','TEST_GB_001', 'TEST_MB_500', 'TEST_MB_100', 'TEST_MB_050', 'TEST_MB_010', 'TEST_MB_005', 'TEST_MB_001']"
   ]
  },
  {
   "cell_type": "markdown",
   "id": "bd0cecc0",
   "metadata": {},
   "source": [
    "#### Encrypt file"
   ]
  },
  {
   "cell_type": "markdown",
   "id": "f2d8c2d0",
   "metadata": {},
   "source": [
    "###### Free memory"
   ]
  },
  {
   "cell_type": "code",
   "execution_count": 60,
   "id": "d575ab7e",
   "metadata": {},
   "outputs": [
    {
     "data": {
      "text/plain": [
       "40"
      ]
     },
     "execution_count": 60,
     "metadata": {},
     "output_type": "execute_result"
    }
   ],
   "source": [
    "gc.collect()"
   ]
  },
  {
   "cell_type": "markdown",
   "id": "8f15941a",
   "metadata": {},
   "source": [
    "#### Encrypt file"
   ]
  },
  {
   "cell_type": "code",
   "execution_count": 61,
   "id": "72b54093",
   "metadata": {},
   "outputs": [],
   "source": [
    "ol = Overlay(hardware_encrypt_overlay)"
   ]
  },
  {
   "cell_type": "code",
   "execution_count": 62,
   "id": "4bddef44",
   "metadata": {},
   "outputs": [
    {
     "name": "stdout",
     "output_type": "stream",
     "text": [
      "AES_ECB_encrypt_0 self encrypt test success\n",
      "AES_ECB_encrypt_1 self encrypt test success\n",
      "AES_ECB_encrypt_2 self encrypt test success\n",
      "AES_ECB_encrypt_3 self encrypt test success\n",
      "AES_ECB_encrypt_4 self encrypt test success\n",
      "AES_ECB_encrypt_5 self encrypt test success\n"
     ]
    }
   ],
   "source": [
    "core_number = hardware_core_count\n",
    "block_size = hardware_block_size\n",
    "\n",
    "for i,core in enumerate(cores):\n",
    "    core.init(\n",
    "        ol.__getattr__(f\"AES_ECB_encrypt_{i}\") ,\n",
    "        ol.__getattr__(f\"axi_dma_write_{i}\") ,\n",
    "        ol.__getattr__(f\"axi_dma_read_{i}\"),\n",
    "        key ,\n",
    "        self_test = hardware_self_test\n",
    "    )"
   ]
  },
  {
   "cell_type": "code",
   "execution_count": 63,
   "id": "23a5f8ab",
   "metadata": {
    "scrolled": true
   },
   "outputs": [
    {
     "name": "stdout",
     "output_type": "stream",
     "text": [
      "Init success with 6 AES cores\n"
     ]
    }
   ],
   "source": [
    "aes_hw = AES_Schedule( cores,  block_size = block_size )"
   ]
  },
  {
   "cell_type": "code",
   "execution_count": 72,
   "id": "a1e60b4a",
   "metadata": {},
   "outputs": [
    {
     "name": "stdout",
     "output_type": "stream",
     "text": [
      "-----------------------------------------\n",
      "Init success with 6 AES cores\n",
      "Encrypting: /mnt/usb/testFile/TEST_GB_001\n",
      "File Size: 1.07 GB\n",
      "start encrypt /mnt/usb/testFile/TEST_GB_001 with size 1073741824\n",
      "need do 128 time\n",
      "Start part  128 /  128 on core #1\n",
      "Duration: 136.845079 sec\n",
      "-----------------------------------------\n",
      "Init success with 6 AES cores\n",
      "Encrypting: /mnt/usb/testFile/TEST_kB_001\n",
      "File Size: 1.02 kB\n",
      "start encrypt /mnt/usb/testFile/TEST_kB_001 with size 1024\n",
      "need do 0 time\n",
      "\n",
      "Duration: 1.854695 sec\n",
      "-----------------------------------------\n",
      "Init success with 6 AES cores\n",
      "Encrypting: /mnt/usb/testFile/TEST_kB_005\n",
      "File Size: 5.12 kB\n",
      "start encrypt /mnt/usb/testFile/TEST_kB_005 with size 5120\n",
      "need do 0 time\n",
      "\n",
      "Duration: 1.450066 sec\n",
      "-----------------------------------------\n",
      "Init success with 6 AES cores\n",
      "Encrypting: /mnt/usb/testFile/TEST_kB_010\n",
      "File Size: 10.24 kB\n",
      "start encrypt /mnt/usb/testFile/TEST_kB_010 with size 10240\n",
      "need do 0 time\n",
      "\n",
      "Duration: 1.449399 sec\n",
      "-----------------------------------------\n",
      "Init success with 6 AES cores\n",
      "Encrypting: /mnt/usb/testFile/TEST_kB_050\n",
      "File Size: 51.20 kB\n",
      "start encrypt /mnt/usb/testFile/TEST_kB_050 with size 51200\n",
      "need do 0 time\n",
      "\n",
      "Duration: 1.456139 sec\n",
      "-----------------------------------------\n",
      "Init success with 6 AES cores\n",
      "Encrypting: /mnt/usb/testFile/TEST_kB_100\n",
      "File Size: 102.40 kB\n",
      "start encrypt /mnt/usb/testFile/TEST_kB_100 with size 102400\n",
      "need do 0 time\n",
      "\n",
      "Duration: 1.475165 sec\n",
      "-----------------------------------------\n",
      "Init success with 6 AES cores\n",
      "Encrypting: /mnt/usb/testFile/TEST_kB_500\n",
      "File Size: 512.00 kB\n",
      "start encrypt /mnt/usb/testFile/TEST_kB_500 with size 512000\n",
      "need do 0 time\n",
      "\n",
      "Duration: 1.481203 sec\n",
      "-----------------------------------------\n",
      "Init success with 6 AES cores\n",
      "Encrypting: /mnt/usb/testFile/TEST_MB_001\n",
      "File Size: 1.05 MB\n",
      "start encrypt /mnt/usb/testFile/TEST_MB_001 with size 1048576\n",
      "need do 0 time\n",
      "\n",
      "Duration: 1.513937 sec\n",
      "-----------------------------------------\n",
      "Init success with 6 AES cores\n",
      "Encrypting: /mnt/usb/testFile/TEST_MB_005\n",
      "File Size: 5.24 MB\n",
      "start encrypt /mnt/usb/testFile/TEST_MB_005 with size 5242880\n",
      "need do 0 time\n",
      "\n",
      "Duration: 1.791841 sec\n",
      "-----------------------------------------\n",
      "Init success with 6 AES cores\n",
      "Encrypting: /mnt/usb/testFile/TEST_MB_010\n",
      "File Size: 10.49 MB\n",
      "start encrypt /mnt/usb/testFile/TEST_MB_010 with size 10485760\n",
      "need do 1 time\n",
      "Start part    1 /    1 on core #0\n",
      "Duration: 3.542965 sec\n",
      "-----------------------------------------\n",
      "Init success with 6 AES cores\n",
      "Encrypting: /mnt/usb/testFile/TEST_MB_050\n",
      "File Size: 52.43 MB\n",
      "start encrypt /mnt/usb/testFile/TEST_MB_050 with size 52428800\n",
      "need do 6 time\n",
      "Start part    6 /    6 on core #5\n",
      "Duration: 5.808371 sec\n",
      "-----------------------------------------\n",
      "Init success with 6 AES cores\n",
      "Encrypting: /mnt/usb/testFile/TEST_MB_100\n",
      "File Size: 104.86 MB\n",
      "start encrypt /mnt/usb/testFile/TEST_MB_100 with size 104857600\n",
      "need do 12 time\n",
      "Start part   12 /   12 on core #5\n",
      "Duration: 12.807314 sec\n",
      "-----------------------------------------\n",
      "Init success with 6 AES cores\n",
      "Encrypting: /mnt/usb/testFile/TEST_MB_500\n",
      "File Size: 524.29 MB\n",
      "start encrypt /mnt/usb/testFile/TEST_MB_500 with size 524288000\n",
      "need do 62 time\n",
      "Start part   62 /   62 on core #1\n",
      "Duration: 69.414301 sec\n",
      "-----------------------------------------\n",
      "Encrypt done!\n",
      "\n",
      "[1073741824, 1024, 5120, 10240, 51200, 102400, 512000, 1048576, 5242880, 10485760, 52428800, 104857600, 524288000]\n",
      "[136.8450791835785, 1.8546946048736572, 1.4500656127929688, 1.449399471282959, 1.456139326095581, 1.4751646518707275, 1.4812030792236328, 1.5139367580413818, 1.7918407917022705, 3.5429651737213135, 5.808371305465698, 12.807313919067383, 69.4143009185791]\n"
     ]
    }
   ],
   "source": [
    "def batch_hardware_en(path = r'/mnt/usb/testFile'):\n",
    "    filesize_list=[]\n",
    "    duration_list=[]\n",
    "    for root, dirs, files in os.walk(path):\n",
    "        for fileName in files:\n",
    "            if fileName in hard_skip_condition:\n",
    "                continue\n",
    "            if \".encrypt\" in fileName:\n",
    "                continue\n",
    "            print(\"-----------------------------------------\")\n",
    "            aes_hw = AES_Schedule( cores,  block_size = block_size )\n",
    "            full_file_name = os.path.join(root, fileName)\n",
    "            print(\"Encrypting: %s\"%(full_file_name))\n",
    "            sum_he_filesize = os.path.getsize(full_file_name)\n",
    "            print(\"File Size: %sB\"%(prefix(sum_he_filesize, decimal=2)))\n",
    "            time_start = time.time()\n",
    "            aes_hw.enqueue_file(file=full_file_name)\n",
    "            aes_hw.start_encrypt_schedule()\n",
    "            time_stop = time.time()\n",
    "            sum_he_duration = time_stop - time_start\n",
    "            print(\"Duration: %f sec\"%(sum_he_duration))\n",
    "            filesize_list.append(sum_he_filesize)\n",
    "            duration_list.append(sum_he_duration)\n",
    "    print(\"-----------------------------------------\")\n",
    "    print(\"Encrypt done!\\n\")\n",
    "    print(filesize_list)\n",
    "    print(duration_list)\n",
    "batch_hardware_en()"
   ]
  },
  {
   "cell_type": "code",
   "execution_count": 73,
   "id": "70976339",
   "metadata": {},
   "outputs": [
    {
     "name": "stdout",
     "output_type": "stream",
     "text": [
      "-----------------------------------------\n",
      "Init success with 6 AES cores\n",
      "batch_size_log: 23\n",
      "File Size: 104.86 MB\n",
      "start encrypt /mnt/usb/testFile/TEST_MB_100 with size 104857600\n",
      "need do 12 time\n",
      "Start part   12 /   12 on core #5\n",
      "Duration: 9.189973 sec\n",
      "-----------------------------------------\n",
      "Init success with 6 AES cores\n",
      "batch_size_log: 22\n",
      "File Size: 104.86 MB\n",
      "start encrypt /mnt/usb/testFile/TEST_MB_100 with size 104857600\n",
      "need do 25 time\n",
      "Start part   25 /   25 on core #0\n",
      "Duration: 10.217056 sec\n",
      "-----------------------------------------\n",
      "Init success with 6 AES cores\n",
      "batch_size_log: 21\n",
      "File Size: 104.86 MB\n",
      "start encrypt /mnt/usb/testFile/TEST_MB_100 with size 104857600\n",
      "need do 50 time\n",
      "Start part   50 /   50 on core #1\n",
      "Duration: 17.532403 sec\n",
      "-----------------------------------------\n",
      "Init success with 6 AES cores\n",
      "batch_size_log: 20\n",
      "File Size: 104.86 MB\n",
      "start encrypt /mnt/usb/testFile/TEST_MB_100 with size 104857600\n",
      "need do 100 time\n",
      "Start part  100 /  100 on core #3\n",
      "Duration: 26.851746 sec\n",
      "-----------------------------------------\n",
      "Init success with 6 AES cores\n",
      "batch_size_log: 19\n",
      "File Size: 104.86 MB\n",
      "start encrypt /mnt/usb/testFile/TEST_MB_100 with size 104857600\n",
      "need do 200 time\n",
      "Start part  200 /  200 on core #1\n",
      "Duration: 51.014426 sec\n",
      "-----------------------------------------\n",
      "Init success with 6 AES cores\n",
      "batch_size_log: 18\n",
      "File Size: 104.86 MB\n",
      "start encrypt /mnt/usb/testFile/TEST_MB_100 with size 104857600\n",
      "need do 400 time\n",
      "Start part  400 /  400 on core #3\n",
      "Duration: 99.192667 sec\n",
      "-----------------------------------------\n",
      "Init success with 6 AES cores\n",
      "batch_size_log: 17\n",
      "File Size: 104.86 MB\n",
      "start encrypt /mnt/usb/testFile/TEST_MB_100 with size 104857600\n",
      "need do 800 time\n",
      "Start part  800 /  800 on core #1\n",
      "Duration: 195.991921 sec\n",
      "-----------------------------------------\n",
      "Encrypt done!\n",
      "\n",
      "[104857600, 104857600, 104857600, 104857600, 104857600, 104857600, 104857600]\n",
      "[9.18997311592102, 10.217056274414062, 17.532402992248535, 26.851746082305908, 51.01442623138428, 99.19266700744629, 195.99192094802856]\n"
     ]
    }
   ],
   "source": [
    "def batch_hardware_en_batchsize(path = r'/mnt/usb/testFile/TEST_MB_100'):\n",
    "    batchsize = [23,22,21,20,19,18,17]\n",
    "    filesize_list=[]\n",
    "    duration_list=[]\n",
    "    for batch_size_log in batchsize:\n",
    "        \n",
    "        print(\"-----------------------------------------\")\n",
    "        aes_hw = AES_Schedule( cores,  block_size = 2**batch_size_log )\n",
    "        full_file_name = path\n",
    "        print(\"batch_size_log: %s\"%(batch_size_log))\n",
    "        sum_se_filesize = os.path.getsize(full_file_name)\n",
    "        print(\"File Size: %sB\"%(prefix(sum_se_filesize, decimal=2)))\n",
    "        time_start = time.time()\n",
    "        aes_hw.enqueue_file(file=full_file_name)\n",
    "        aes_hw.start_encrypt_schedule()\n",
    "        time_stop = time.time()\n",
    "        sum_se_duration = time_stop - time_start\n",
    "        print(\"Duration: %f sec\"%(sum_se_duration))\n",
    "        filesize_list.append(sum_se_filesize)\n",
    "        duration_list.append(sum_se_duration)\n",
    "        r=cmd('rm /mnt/usb/testFile/*.encrypt*')\n",
    "    print(\"-----------------------------------------\")\n",
    "    print(\"Encrypt done!\\n\")\n",
    "    print(filesize_list)\n",
    "    print(duration_list)\n",
    "batch_hardware_en_batchsize()"
   ]
  },
  {
   "cell_type": "markdown",
   "id": "00b7ab2a",
   "metadata": {},
   "source": [
    "###### Free memory"
   ]
  },
  {
   "cell_type": "code",
   "execution_count": null,
   "id": "351d4651",
   "metadata": {},
   "outputs": [],
   "source": [
    "del ol\n",
    "del aes_hw\n",
    "gc.collect()"
   ]
  },
  {
   "cell_type": "markdown",
   "id": "9bc0907c",
   "metadata": {},
   "source": [
    "#### Decrypt file"
   ]
  },
  {
   "cell_type": "code",
   "execution_count": null,
   "id": "ebb75656",
   "metadata": {},
   "outputs": [],
   "source": [
    "ol = Overlay(hardware_decrypt_overlay)"
   ]
  },
  {
   "cell_type": "code",
   "execution_count": null,
   "id": "5ce28d57",
   "metadata": {},
   "outputs": [],
   "source": [
    "core_number = hardware_core_count\n",
    "block_size = hardware_block_size\n",
    "\n",
    "for i,core in enumerate(cores):\n",
    "    core.init(\n",
    "        ol.__getattr__(f\"AES_ECB_decrypt_{i}\") ,\n",
    "        ol.__getattr__(f\"axi_dma_write_{i}\") ,\n",
    "        ol.__getattr__(f\"axi_dma_read_{i}\"),\n",
    "        key ,\n",
    "        self_test = hardware_self_test\n",
    "    )"
   ]
  },
  {
   "cell_type": "code",
   "execution_count": null,
   "id": "2601f721",
   "metadata": {
    "scrolled": true
   },
   "outputs": [],
   "source": [
    "aes_hw = AES_Schedule( cores,  block_size = block_size )"
   ]
  },
  {
   "cell_type": "code",
   "execution_count": null,
   "id": "e1635255",
   "metadata": {},
   "outputs": [],
   "source": [
    "def batch_hardware_de(path = r'/mnt/usb/testFile'):\n",
    "    filesize_list=[]\n",
    "    duration_list=[]\n",
    "    for root, dirs, files in os.walk(path):\n",
    "        for fileName in files:\n",
    "            if '.encrypt' not in fileName:\n",
    "                continue\n",
    "            print(\"-----------------------------------------\")\n",
    "            full_file_name = os.path.join(root, fileName)\n",
    "            print(\"Decrypting: %s\"%(full_file_name))\n",
    "            sum_hd_filesize = os.path.getsize(full_file_name)\n",
    "            print(\"File Size: %sB\"%(prefix(sum_hd_filesize, decimal=2)))\n",
    "            time_start = time.time()\n",
    "            aes_hw.enqueue_file(file=full_file_name)\n",
    "            aes_hw.start_decrypt_schedule()\n",
    "            time_stop = time.time()\n",
    "            sum_hd_duration = time_stop - time_start\n",
    "            print(\"Duration: %f sec\"%(sum_hd_duration))\n",
    "            filesize_list.append(sum_hd_filesize)\n",
    "            duration_list.append(sum_hd_duration)\n",
    "    print(\"-----------------------------------------\")\n",
    "    print(\"Decrypt done!\\n\")\n",
    "    print(filesize_list)\n",
    "    print(duration_list)\n",
    "batch_hardware_de()"
   ]
  },
  {
   "cell_type": "code",
   "execution_count": 69,
   "id": "1a33ab8e",
   "metadata": {},
   "outputs": [],
   "source": [
    "r=cmd('rm /mnt/usb/testFile/*.encrypt*')"
   ]
  },
  {
   "cell_type": "markdown",
   "id": "f913c103",
   "metadata": {},
   "source": [
    "###### Free memory"
   ]
  },
  {
   "cell_type": "code",
   "execution_count": null,
   "id": "0dcdab61",
   "metadata": {},
   "outputs": [],
   "source": [
    "del ol\n",
    "del aes_hw\n",
    "gc.collect()"
   ]
  },
  {
   "cell_type": "code",
   "execution_count": null,
   "id": "f0ac7325",
   "metadata": {},
   "outputs": [],
   "source": []
  }
 ],
 "metadata": {
  "kernelspec": {
   "display_name": "Python 3",
   "language": "python",
   "name": "python3"
  },
  "language_info": {
   "codemirror_mode": {
    "name": "ipython",
    "version": 3
   },
   "file_extension": ".py",
   "mimetype": "text/x-python",
   "name": "python",
   "nbconvert_exporter": "python",
   "pygments_lexer": "ipython3",
   "version": "3.8.2"
  }
 },
 "nbformat": 4,
 "nbformat_minor": 5
}
