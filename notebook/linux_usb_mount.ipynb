{
 "cells": [
  {
   "cell_type": "markdown",
   "id": "485031dc",
   "metadata": {},
   "source": [
    "# Import"
   ]
  },
  {
   "cell_type": "code",
   "execution_count": 1,
   "id": "0f5440bc",
   "metadata": {},
   "outputs": [],
   "source": [
    "import os\n",
    "from Crypto.Protocol.KDF import PBKDF2 \n",
    "from Crypto.Cipher import AES\n",
    "import numpy as np\n",
    "import time"
   ]
  },
  {
   "cell_type": "markdown",
   "id": "aa4ab6ff",
   "metadata": {},
   "source": [
    "# Linux Command"
   ]
  },
  {
   "cell_type": "code",
   "execution_count": 2,
   "id": "657f8090",
   "metadata": {},
   "outputs": [],
   "source": [
    "def cmd(cmd, echo=False):\n",
    "    r = os.popen(cmd).read()\n",
    "    if echo:\n",
    "        print(r)\n",
    "    return r"
   ]
  },
  {
   "cell_type": "markdown",
   "id": "e8767692",
   "metadata": {},
   "source": [
    "# Disks & Partitions"
   ]
  },
  {
   "cell_type": "code",
   "execution_count": 3,
   "id": "cd136ef0",
   "metadata": {},
   "outputs": [
    {
     "name": "stdout",
     "output_type": "stream",
     "text": [
      "[['NAME' 'MAJ' 'MIN' 'RM' 'SIZE' 'RO' 'TYPE' 'MOUNTPOINT']\n",
      " ['sda' '8' '0' '1' '14.8G' '0' 'disk' '']\n",
      " ['sda1' '8' '1' '1' '14.8G' '0' 'part' '/mnt/usb']\n",
      " ['mmcblk0' '179' '0' '0' '29.7G' '0' 'disk' '']\n",
      " ['mmcblk0p1' '179' '1' '0' '130M' '0' 'part' '/boot']\n",
      " ['mmcblk0p2' '179' '2' '0' '29.6G' '0' 'part' '/']]\n"
     ]
    }
   ],
   "source": [
    "# list all disks and partitions\n",
    "def list_drives_all():\n",
    "    r = cmd(\"lsblk\")\n",
    "    r = r.split(\"\\n\")\n",
    "    drive = np.array(['','','','','','','',''], ndmin=2)\n",
    "    for item in r:\n",
    "        item = ' '.join(item.split()).replace(\":\", \" \")\n",
    "        \n",
    "        if '├─'in item[:2] or '└─' in item[:2]:\n",
    "            item = item[2:]\n",
    "        item = item.split(\" \")\n",
    "        \n",
    "        if len(item) ==7:\n",
    "            item.append(\"\")\n",
    "        if len(item) ==8:\n",
    "            drive = np.vstack((drive, np.array(item)))\n",
    "    return drive[1:]\n",
    "#print(list_drives_all())"
   ]
  },
  {
   "cell_type": "code",
   "execution_count": 4,
   "id": "10df75f3",
   "metadata": {},
   "outputs": [
    {
     "name": "stdout",
     "output_type": "stream",
     "text": [
      "[['sda1' '8' '1' '1' '14.8G' '0' 'part' '/mnt/usb']\n",
      " ['mmcblk0p1' '179' '1' '0' '130M' '0' 'part' '/boot']\n",
      " ['mmcblk0p2' '179' '2' '0' '29.6G' '0' 'part' '/']]\n"
     ]
    }
   ],
   "source": [
    "#list all partitions\n",
    "def list_parts():\n",
    "    part = np.array(['','','','','','','',''], ndmin=2)\n",
    "    for item in list_drives_all():\n",
    "        if item[6] == 'part':\n",
    "            part = np.vstack((part, item))\n",
    "    return part[1:]\n",
    "#print(list_parts())"
   ]
  },
  {
   "cell_type": "code",
   "execution_count": 5,
   "id": "527a1723",
   "metadata": {},
   "outputs": [
    {
     "name": "stdout",
     "output_type": "stream",
     "text": [
      "sda1\n"
     ]
    }
   ],
   "source": [
    "#return the first partition name starts with \"sd\"\n",
    "def get_first_sd_part():\n",
    "    for item in list_parts():\n",
    "        if item[0].startswith(\"sd\"):\n",
    "            return item[0]\n",
    "#print(get_first_sd_part())"
   ]
  },
  {
   "cell_type": "code",
   "execution_count": 6,
   "id": "52d396e7",
   "metadata": {},
   "outputs": [],
   "source": [
    "#mount partition to path, return mountpoint\n",
    "def mount_usb(part = get_first_sd_part(), mount_path=r\"/mnt/usb\"):\n",
    "    cmd( f\"mount /dev/{part} {mount_path}\")\n",
    "    for item in list_parts():\n",
    "        if item[0]==part:\n",
    "            return item[7]\n",
    "    return None"
   ]
  },
  {
   "cell_type": "code",
   "execution_count": 7,
   "id": "a520706f",
   "metadata": {},
   "outputs": [
    {
     "name": "stdout",
     "output_type": "stream",
     "text": [
      "/mnt/usb\n"
     ]
    }
   ],
   "source": [
    "usb_path = mount_usb()\n",
    "print(usb_path)"
   ]
  },
  {
   "cell_type": "code",
   "execution_count": null,
   "id": "c6fb28d1",
   "metadata": {},
   "outputs": [],
   "source": []
  }
 ],
 "metadata": {
  "kernelspec": {
   "display_name": "Python 3",
   "language": "python",
   "name": "python3"
  },
  "language_info": {
   "codemirror_mode": {
    "name": "ipython",
    "version": 3
   },
   "file_extension": ".py",
   "mimetype": "text/x-python",
   "name": "python",
   "nbconvert_exporter": "python",
   "pygments_lexer": "ipython3",
   "version": "3.8.2"
  }
 },
 "nbformat": 4,
 "nbformat_minor": 5
}
