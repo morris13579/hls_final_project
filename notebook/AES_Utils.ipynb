{
 "cells": [
  {
   "cell_type": "markdown",
   "id": "485031dc",
   "metadata": {},
   "source": [
    "# Import"
   ]
  },
  {
   "cell_type": "code",
   "execution_count": 1,
   "id": "0f5440bc",
   "metadata": {},
   "outputs": [],
   "source": [
    "import os\n",
    "from Crypto.Protocol.KDF import PBKDF2 \n",
    "from Crypto.Cipher import AES\n",
    "import numpy as np\n",
    "import time"
   ]
  },
  {
   "cell_type": "markdown",
   "id": "903d466e",
   "metadata": {},
   "source": [
    "## PAD"
   ]
  },
  {
   "cell_type": "code",
   "execution_count": 2,
   "id": "017293fe",
   "metadata": {},
   "outputs": [],
   "source": [
    "AES_LENGTH = 16\n",
    "def pad(text):\n",
    "    padlen = AES_LENGTH - (len(text) % AES_LENGTH)\n",
    "    text += bytes([padlen]) * (padlen)\n",
    "    return text"
   ]
  },
  {
   "cell_type": "code",
   "execution_count": 3,
   "id": "ab7e8d97",
   "metadata": {},
   "outputs": [],
   "source": [
    "def unpad(text):\n",
    "    padlen = text[-1]\n",
    "    return text[:len(text)- int.from_bytes(bytes([padlen]) , 'little') ]"
   ]
  },
  {
   "cell_type": "markdown",
   "id": "7625ffba",
   "metadata": {},
   "source": [
    "## AES Key"
   ]
  },
  {
   "cell_type": "code",
   "execution_count": 4,
   "id": "a7f7809c",
   "metadata": {},
   "outputs": [],
   "source": [
    "def mkKeyByPassword(password, salt = b'Ntust_LPS', keyLenth = 32): \n",
    "    return PBKDF2(password, salt, dkLen = keyLenth)\n",
    "key = mkKeyByPassword(b\"Powerusb\")"
   ]
  },
  {
   "cell_type": "markdown",
   "id": "4ab291f6",
   "metadata": {},
   "source": [
    "## AES Encrypt & Decrypt"
   ]
  },
  {
   "cell_type": "code",
   "execution_count": 5,
   "id": "e4a32dcb",
   "metadata": {},
   "outputs": [],
   "source": [
    "def aesEncrypt(data, key, padding=False):\n",
    "    if padding:\n",
    "        data = pad(data)\n",
    "    #cipherIV = os.urandom(16)\n",
    "    cipher = AES.new(key, AES.MODE_ECB)\n",
    "    cipheredData = cipher.encrypt(data)\n",
    "    ciphertext = cipheredData\n",
    "    return ciphertext"
   ]
  },
  {
   "cell_type": "code",
   "execution_count": 6,
   "id": "6c8af622",
   "metadata": {},
   "outputs": [],
   "source": [
    "def aesDecrypt(ciphertext, key, padding):\n",
    "    #cipherIV     = ciphertext[:16]\n",
    "    #cipheredData = ciphertext[16:]\n",
    "    cipheredData = ciphertext\n",
    "    cipher = AES.new(key, AES.MODE_ECB)\n",
    "    data   = cipher.decrypt(cipheredData)\n",
    "    if padding:\n",
    "        return unpad(data)\n",
    "    else:\n",
    "        return data"
   ]
  }
 ],
 "metadata": {
  "kernelspec": {
   "display_name": "Python 3",
   "language": "python",
   "name": "python3"
  },
  "language_info": {
   "codemirror_mode": {
    "name": "ipython",
    "version": 3
   },
   "file_extension": ".py",
   "mimetype": "text/x-python",
   "name": "python",
   "nbconvert_exporter": "python",
   "pygments_lexer": "ipython3",
   "version": "3.8.2"
  }
 },
 "nbformat": 4,
 "nbformat_minor": 5
}
