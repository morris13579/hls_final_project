{
 "cells": [
  {
   "cell_type": "markdown",
   "id": "c9760aa4",
   "metadata": {},
   "source": [
    "## General"
   ]
  },
  {
   "cell_type": "code",
   "execution_count": 1,
   "id": "0f5440bc",
   "metadata": {},
   "outputs": [
    {
     "data": {
      "application/javascript": [
       "\n",
       "try {\n",
       "require(['notebook/js/codecell'], function(codecell) {\n",
       "  codecell.CodeCell.options_default.highlight_modes[\n",
       "      'magic_text/x-csrc'] = {'reg':[/^%%microblaze/]};\n",
       "  Jupyter.notebook.events.one('kernel_ready.Kernel', function(){\n",
       "      Jupyter.notebook.get_cells().map(function(cell){\n",
       "          if (cell.cell_type == 'code'){ cell.auto_highlight(); } }) ;\n",
       "  });\n",
       "});\n",
       "} catch (e) {};\n"
      ]
     },
     "metadata": {},
     "output_type": "display_data"
    },
    {
     "data": {
      "application/javascript": [
       "\n",
       "try {\n",
       "require(['notebook/js/codecell'], function(codecell) {\n",
       "  codecell.CodeCell.options_default.highlight_modes[\n",
       "      'magic_text/x-csrc'] = {'reg':[/^%%pybind11/]};\n",
       "  Jupyter.notebook.events.one('kernel_ready.Kernel', function(){\n",
       "      Jupyter.notebook.get_cells().map(function(cell){\n",
       "          if (cell.cell_type == 'code'){ cell.auto_highlight(); } }) ;\n",
       "  });\n",
       "});\n",
       "} catch (e) {};\n"
      ]
     },
     "metadata": {},
     "output_type": "display_data"
    }
   ],
   "source": [
    "import os\n",
    "from Crypto.Protocol.KDF import PBKDF2 \n",
    "from Crypto.Cipher import AES\n",
    "from pynq import Overlay\n",
    "from pynq import allocate\n",
    "import numpy as np\n",
    "import time\n",
    "import gc"
   ]
  },
  {
   "cell_type": "code",
   "execution_count": 2,
   "id": "4b5c05d9",
   "metadata": {},
   "outputs": [],
   "source": [
    "def prefix(num, decimal=2):\n",
    "    if decimal<0:\n",
    "        strformat = '%f'\n",
    "    else:\n",
    "        strformat = '%%.%df'%(decimal)\n",
    "    if num>=1000000000000:\n",
    "        return (strformat+' T')%(num/1000000000000)\n",
    "    elif num>=1000000000:\n",
    "        return (strformat+' G')%(num/1000000000)\n",
    "    elif num>=1000000:\n",
    "        return (strformat+' M')%(num/1000000)\n",
    "    elif num>=1000:\n",
    "        return (strformat+' k')%(num/1000)\n",
    "    else:\n",
    "        return '%s'%(num)"
   ]
  },
  {
   "cell_type": "code",
   "execution_count": 3,
   "id": "de38db64",
   "metadata": {},
   "outputs": [],
   "source": [
    "def pass_fail(condition):\n",
    "    return 'PASS' if condition else 'FAILED'"
   ]
  },
  {
   "cell_type": "markdown",
   "id": "6154d73c",
   "metadata": {},
   "source": [
    "###### Mount USB drive"
   ]
  },
  {
   "cell_type": "code",
   "execution_count": 4,
   "id": "02efd93d",
   "metadata": {},
   "outputs": [
    {
     "name": "stdout",
     "output_type": "stream",
     "text": [
      "/mnt/usb\n"
     ]
    }
   ],
   "source": [
    "%run ./linux_usb_mount.ipynb"
   ]
  },
  {
   "cell_type": "markdown",
   "id": "49b16591",
   "metadata": {},
   "source": [
    "######  Generate an AES key"
   ]
  },
  {
   "cell_type": "code",
   "execution_count": 5,
   "id": "657f8090",
   "metadata": {},
   "outputs": [],
   "source": [
    "#AES Utils\n",
    "%run ./AES_Utils.ipynb"
   ]
  },
  {
   "cell_type": "code",
   "execution_count": 6,
   "id": "fa8c6cff",
   "metadata": {},
   "outputs": [
    {
     "name": "stdout",
     "output_type": "stream",
     "text": [
      "b'\\x97\\xc6\\x17\\x85\\xe7(\\xa6\\x01\\xb8\\xd7\\x1d\\xa4L\\xb3\\x0b\\x1c#\\xff\\xfem\\x12\\x9d%\\xcc_\\xd7hVb\\\\\\x8d\\xfa'\n"
     ]
    }
   ],
   "source": [
    "print(key)"
   ]
  },
  {
   "cell_type": "code",
   "execution_count": 7,
   "id": "9193f5ba",
   "metadata": {},
   "outputs": [],
   "source": [
    "%run ./AES_Cores.ipynb"
   ]
  },
  {
   "cell_type": "code",
   "execution_count": 8,
   "id": "cef43498",
   "metadata": {},
   "outputs": [],
   "source": [
    "# Testing parameters"
   ]
  },
  {
   "cell_type": "code",
   "execution_count": 9,
   "id": "201187ca",
   "metadata": {},
   "outputs": [],
   "source": [
    "# TEST_GB_001 TEST_GB_002\n",
    "# TEST_MB_001 TEST_MB_005 TEST_MB_010 TEST_MB_050 TEST_MB_100 TEST_MB_500\n",
    "# TEST_kB_001 TEST_kB_005 TEST_kB_010 TEST_kB_050 TEST_kB_100 TEST_kB_500"
   ]
  },
  {
   "cell_type": "code",
   "execution_count": 10,
   "id": "d8c01626",
   "metadata": {},
   "outputs": [],
   "source": [
    "encrypt_file_source = os.path.join(usb_path+'/testFile/', \"TEST_MB_050\")"
   ]
  },
  {
   "cell_type": "code",
   "execution_count": 11,
   "id": "4b486c72",
   "metadata": {},
   "outputs": [],
   "source": [
    "encrypt_file_rename = encrypt_file_source+\".rename\""
   ]
  },
  {
   "cell_type": "markdown",
   "id": "f70c41a2",
   "metadata": {},
   "source": [
    "## Software"
   ]
  },
  {
   "cell_type": "markdown",
   "id": "f99a4672",
   "metadata": {},
   "source": [
    "###### Configuration"
   ]
  },
  {
   "cell_type": "code",
   "execution_count": 12,
   "id": "d739e9ff",
   "metadata": {},
   "outputs": [],
   "source": [
    "skip_software = False"
   ]
  },
  {
   "cell_type": "markdown",
   "id": "d2a8a2ec",
   "metadata": {},
   "source": [
    "###### Free memory"
   ]
  },
  {
   "cell_type": "code",
   "execution_count": 13,
   "id": "51b2a133",
   "metadata": {},
   "outputs": [
    {
     "data": {
      "text/plain": [
       "120"
      ]
     },
     "execution_count": 13,
     "metadata": {},
     "output_type": "execute_result"
    }
   ],
   "source": [
    "gc.collect()"
   ]
  },
  {
   "cell_type": "markdown",
   "id": "234f6e1a",
   "metadata": {},
   "source": [
    "###### Encrypt / Decrypt file"
   ]
  },
  {
   "cell_type": "code",
   "execution_count": 14,
   "id": "5ff429cb",
   "metadata": {},
   "outputs": [],
   "source": [
    "encrypt_extention = '.ECRYP'"
   ]
  },
  {
   "cell_type": "code",
   "execution_count": 15,
   "id": "20cf7d64",
   "metadata": {},
   "outputs": [],
   "source": [
    "def encryptFile(fileName, key, rename=None, batch_size_log2=24):\n",
    "    batch_size = int(2**batch_size_log2)\n",
    "    get_file_size = os.path.getsize(fileName)\n",
    "    file_size = get_file_size\n",
    "    if rename is None:\n",
    "        rename = fileName+encrypt_extention\n",
    "    try:\n",
    "        fr = open(fileName, 'rb')\n",
    "        fw = open(rename, 'wb')\n",
    "        #fw.write(b'ECRYP')\n",
    "        #fw.write(bytes([batch_size_log2]))\n",
    "        \n",
    "        while file_size>0:\n",
    "            content = fr.read(batch_size)\n",
    "            if file_size <= batch_size:\n",
    "                content = aesEncrypt(content, key, padding=True)\n",
    "            else:\n",
    "                content = aesEncrypt(content, key, padding=False)\n",
    "            fw.write(content)\n",
    "            file_size = file_size-batch_size\n",
    "    finally:\n",
    "        if fr:\n",
    "            fr.close()\n",
    "        if fw:\n",
    "            fw.close()\n",
    "    \n",
    "    return get_file_size"
   ]
  },
  {
   "cell_type": "code",
   "execution_count": 16,
   "id": "242288ab",
   "metadata": {},
   "outputs": [],
   "source": [
    "def decryptFile(fileName, key, rename=None, batch_size_log2=24):\n",
    "    if encrypt_extention == fileName[-len(encrypt_extention):]:\n",
    "        get_file_size = os.path.getsize(fileName)\n",
    "        file_size = get_file_size\n",
    "        if rename is None:\n",
    "            rename = fileName[:-len(encrypt_extention)]\n",
    "        try:\n",
    "            fr = open(fileName, 'rb')\n",
    "            #if fr.read(5) != b'ECRYP':\n",
    "            #    fr.close()\n",
    "            #    return False\n",
    "            #batch_size_log2 = int.from_bytes(fr.read(1), byteorder='big')\n",
    "\n",
    "            batch_size = 2**batch_size_log2\n",
    "            fw = open(rename, 'wb')\n",
    "\n",
    "            while file_size>0:\n",
    "                content = fr.read(batch_size)\n",
    "                if file_size <= batch_size:\n",
    "                    content = aesDecrypt(content, key, padding=True)\n",
    "                else:\n",
    "                    content = aesDecrypt(content, key, padding=False)\n",
    "                fw.write(content)\n",
    "                file_size = file_size-batch_size\n",
    "        finally:\n",
    "            if fr:\n",
    "                fr.close()\n",
    "            if fw:\n",
    "                fw.close()\n",
    "                \n",
    "        return True\n",
    "    else:\n",
    "        return False"
   ]
  },
  {
   "cell_type": "markdown",
   "id": "2df2d381",
   "metadata": {},
   "source": [
    "###### Testing"
   ]
  },
  {
   "cell_type": "code",
   "execution_count": 17,
   "id": "f920190f",
   "metadata": {},
   "outputs": [
    {
     "name": "stdout",
     "output_type": "stream",
     "text": [
      "Encrypting: /mnt/usb/testFile/TEST_MB_050\n",
      "File Size: 52.43 MB\n",
      "Duration: 8.905452 sec\n",
      "Encrypt done!\n",
      "\n"
     ]
    }
   ],
   "source": [
    "print(\"Encrypting: %s\"%(encrypt_file_source))\n",
    "\n",
    "sum_se_filesize = os.path.getsize(encrypt_file_source)\n",
    "print(\"File Size: %sB\"%(prefix(sum_se_filesize, decimal=2)))\n",
    "\n",
    "time_start = time.time()\n",
    "if not skip_software:\n",
    "    encryptFile(encrypt_file_source, key, rename = encrypt_file_rename+encrypt_extention)\n",
    "time_stop = time.time()\n",
    "\n",
    "sum_se_duration = time_stop - time_start\n",
    "print(\"Duration: %f sec\"%(sum_se_duration))\n",
    "\n",
    "print(\"Encrypt done!\\n\")"
   ]
  },
  {
   "cell_type": "code",
   "execution_count": 18,
   "id": "3b363455",
   "metadata": {},
   "outputs": [
    {
     "name": "stdout",
     "output_type": "stream",
     "text": [
      "Decrypting: /mnt/usb/testFile/TEST_MB_050.rename.ECRYP\n",
      "File Size: 52.43 MB\n",
      "Duration: 7.815938 sec\n",
      "Decrypt done!\n",
      "\n"
     ]
    }
   ],
   "source": [
    "print(\"Decrypting: %s\"%(encrypt_file_rename+encrypt_extention))\n",
    "\n",
    "if not skip_software:\n",
    "    sum_sd_filesize = os.path.getsize(encrypt_file_rename+encrypt_extention)\n",
    "else:\n",
    "    sum_sd_filesize = 0\n",
    "print(\"File Size: %sB\"%(prefix(sum_se_filesize, decimal=2)))\n",
    "\n",
    "time_start = time.time()\n",
    "if not skip_software:\n",
    "    decryptFile(encrypt_file_rename+encrypt_extention, key)\n",
    "time_stop = time.time()\n",
    "\n",
    "sum_sd_duration = time_stop - time_start\n",
    "print(\"Duration: %f sec\"%(sum_sd_duration))\n",
    "\n",
    "print(\"Decrypt done!\\n\")"
   ]
  },
  {
   "cell_type": "markdown",
   "id": "0ede010f",
   "metadata": {},
   "source": [
    "###### Checksum"
   ]
  },
  {
   "cell_type": "code",
   "execution_count": 19,
   "id": "8a44750d",
   "metadata": {},
   "outputs": [
    {
     "name": "stdout",
     "output_type": "stream",
     "text": [
      "d23ecd9aa176ee800ae0b73d383dcc75  /mnt/usb/testFile/TEST_MB_050\n",
      "\n",
      "e9778ec68a92e52fb7c64deea39d03bd  /mnt/usb/testFile/TEST_MB_050.rename.ECRYP\n",
      "\n",
      "d23ecd9aa176ee800ae0b73d383dcc75  /mnt/usb/testFile/TEST_MB_050.rename\n",
      "\n"
     ]
    }
   ],
   "source": [
    "if not skip_software:\n",
    "    sum_so_md5 = cmd(\"md5sum %s\"%(encrypt_file_source))\n",
    "    print(sum_so_md5)\n",
    "    sum_so_md5 = sum_so_md5.split(\" \")[0]\n",
    "    sum_se_md5 = cmd(\"md5sum %s\"%(encrypt_file_rename+encrypt_extention))\n",
    "    print(sum_se_md5)\n",
    "    sum_se_md5 = sum_se_md5.split(\" \")[0]\n",
    "    sum_sd_md5 = cmd(\"md5sum %s\"%(encrypt_file_rename))\n",
    "    print(sum_sd_md5)\n",
    "    sum_sd_md5 = sum_sd_md5.split(\" \")[0]\n",
    "else:\n",
    "    sum_so_md5='SKIP-000'\n",
    "    sum_se_md5='SKIP-001'\n",
    "    sum_sd_md5='SKIP-002'"
   ]
  },
  {
   "cell_type": "markdown",
   "id": "f398418f",
   "metadata": {},
   "source": [
    "###### Delete files"
   ]
  },
  {
   "cell_type": "code",
   "execution_count": 20,
   "id": "6c4aafe7",
   "metadata": {},
   "outputs": [
    {
     "name": "stdout",
     "output_type": "stream",
     "text": [
      "\n",
      "\n"
     ]
    }
   ],
   "source": [
    "print(cmd(\"rm -f %s\"%(encrypt_file_rename+encrypt_extention)))\n",
    "print(cmd(\"rm -f %s\"%(encrypt_file_rename)))"
   ]
  },
  {
   "cell_type": "markdown",
   "id": "2ce06b10",
   "metadata": {},
   "source": [
    "## Hardware"
   ]
  },
  {
   "cell_type": "markdown",
   "id": "d9e837f1",
   "metadata": {},
   "source": [
    "###### Configuration"
   ]
  },
  {
   "cell_type": "code",
   "execution_count": 21,
   "id": "c832f6f2",
   "metadata": {},
   "outputs": [],
   "source": [
    "hardware_encrypt_overlay = \"./bit/encrypt_aes256_150M_core6.bit\"\n",
    "hardware_decrypt_overlay = \"./bit/decrypt_aes256_150M_core6.bit\"\n",
    "hardware_core_count = 6\n",
    "hardware_block_size = 2**23\n",
    "hardware_self_test = True"
   ]
  },
  {
   "cell_type": "markdown",
   "id": "3a461a54",
   "metadata": {},
   "source": [
    "###### Free memory"
   ]
  },
  {
   "cell_type": "code",
   "execution_count": 22,
   "id": "a862c3ea",
   "metadata": {},
   "outputs": [
    {
     "data": {
      "text/plain": [
       "0"
      ]
     },
     "execution_count": 22,
     "metadata": {},
     "output_type": "execute_result"
    }
   ],
   "source": [
    "gc.collect()"
   ]
  },
  {
   "cell_type": "markdown",
   "id": "f35da571",
   "metadata": {},
   "source": [
    "#### Encrypt file"
   ]
  },
  {
   "cell_type": "code",
   "execution_count": 23,
   "id": "3e5aba18",
   "metadata": {},
   "outputs": [],
   "source": [
    "ol = Overlay(hardware_encrypt_overlay)"
   ]
  },
  {
   "cell_type": "code",
   "execution_count": 24,
   "id": "b011399a",
   "metadata": {},
   "outputs": [
    {
     "name": "stdout",
     "output_type": "stream",
     "text": [
      "AES_ECB_encrypt_0 self encrypt test success\n",
      "AES_ECB_encrypt_1 self encrypt test success\n",
      "AES_ECB_encrypt_2 self encrypt test success\n",
      "AES_ECB_encrypt_3 self encrypt test success\n",
      "AES_ECB_encrypt_4 self encrypt test success\n",
      "AES_ECB_encrypt_5 self encrypt test success\n"
     ]
    }
   ],
   "source": [
    "core_number = hardware_core_count\n",
    "block_size = hardware_block_size\n",
    "\n",
    "cores = [ AES_Core( \n",
    "    ol.__getattr__(f\"AES_ECB_encrypt_{i}\") ,\n",
    "    ol.__getattr__(f\"axi_dma_write_{i}\") ,\n",
    "    ol.__getattr__(f\"axi_dma_read_{i}\"),\n",
    "    key ,\n",
    "    block_size,\n",
    "    self_test = hardware_self_test\n",
    ") for i in range(core_number)]"
   ]
  },
  {
   "cell_type": "code",
   "execution_count": 25,
   "id": "d294eb9a",
   "metadata": {
    "scrolled": true
   },
   "outputs": [
    {
     "name": "stdout",
     "output_type": "stream",
     "text": [
      "Init success with 6 AES cores\n"
     ]
    }
   ],
   "source": [
    "aes_hw = AES_Schedule( cores,  block_size = block_size )"
   ]
  },
  {
   "cell_type": "markdown",
   "id": "e3344716",
   "metadata": {},
   "source": [
    "###### Testing"
   ]
  },
  {
   "cell_type": "code",
   "execution_count": 26,
   "id": "70b48484",
   "metadata": {
    "scrolled": true
   },
   "outputs": [
    {
     "name": "stdout",
     "output_type": "stream",
     "text": [
      "File Size: 52.43 MB\n",
      "start encrypt /mnt/usb/testFile/TEST_MB_050 with size 52428800\n",
      "need do 6 time\n",
      "Start part    6 /    6 on core #5\n",
      "time: 4.512328624725342\n"
     ]
    }
   ],
   "source": [
    "sum_he_filesize = os.path.getsize(encrypt_file_source)\n",
    "print(\"File Size: %sB\"%(prefix(sum_he_filesize, decimal=2)))\n",
    "start_time = time.time()\n",
    "aes_hw.enqueue_file(file=encrypt_file_source)\n",
    "aes_hw.start_encrypt_schedule()\n",
    "end_time = time.time()\n",
    "sum_he_duration = end_time - start_time\n",
    "print(f\"time: {sum_he_duration}\")"
   ]
  },
  {
   "cell_type": "markdown",
   "id": "35a3d5ce",
   "metadata": {},
   "source": [
    "###### Free memory"
   ]
  },
  {
   "cell_type": "code",
   "execution_count": 27,
   "id": "d21d4273",
   "metadata": {},
   "outputs": [
    {
     "data": {
      "text/plain": [
       "60"
      ]
     },
     "execution_count": 27,
     "metadata": {},
     "output_type": "execute_result"
    }
   ],
   "source": [
    "del ol\n",
    "del aes_hw\n",
    "gc.collect()"
   ]
  },
  {
   "cell_type": "markdown",
   "id": "3d64e854",
   "metadata": {},
   "source": [
    "#### Decrypt file"
   ]
  },
  {
   "cell_type": "code",
   "execution_count": 28,
   "id": "9442a2d6",
   "metadata": {},
   "outputs": [],
   "source": [
    "ol = Overlay(hardware_decrypt_overlay)"
   ]
  },
  {
   "cell_type": "code",
   "execution_count": 29,
   "id": "89f60031",
   "metadata": {},
   "outputs": [
    {
     "name": "stdout",
     "output_type": "stream",
     "text": [
      "AES_ECB_decrypt_0 self decrypt test success\n",
      "AES_ECB_decrypt_1 self decrypt test success\n",
      "AES_ECB_decrypt_2 self decrypt test success\n",
      "AES_ECB_decrypt_3 self decrypt test success\n",
      "AES_ECB_decrypt_4 self decrypt test success\n",
      "AES_ECB_decrypt_5 self decrypt test success\n"
     ]
    }
   ],
   "source": [
    "core_number = hardware_core_count\n",
    "block_size = hardware_block_size\n",
    "\n",
    "for i,core in enumerate(cores):\n",
    "    core.init(\n",
    "        ol.__getattr__(f\"AES_ECB_decrypt_{i}\") ,\n",
    "        ol.__getattr__(f\"axi_dma_write_{i}\") ,\n",
    "        ol.__getattr__(f\"axi_dma_read_{i}\"),\n",
    "        key ,\n",
    "        self_test = hardware_self_test\n",
    "    )"
   ]
  },
  {
   "cell_type": "code",
   "execution_count": 30,
   "id": "3ee0f057",
   "metadata": {},
   "outputs": [
    {
     "name": "stdout",
     "output_type": "stream",
     "text": [
      "Init success with 6 AES cores\n"
     ]
    }
   ],
   "source": [
    "aes_hw = AES_Schedule( cores,  block_size = block_size )"
   ]
  },
  {
   "cell_type": "markdown",
   "id": "f923f491",
   "metadata": {},
   "source": [
    "###### Testing"
   ]
  },
  {
   "cell_type": "code",
   "execution_count": 31,
   "id": "f07d46fe",
   "metadata": {},
   "outputs": [
    {
     "name": "stdout",
     "output_type": "stream",
     "text": [
      "File Size: 52.43 MB\n",
      "start decrypt /mnt/usb/testFile/TEST_MB_050.encrypt with size 52428816\n",
      "need do 6 time\n",
      "Start part    6 /    6 on core #5\n",
      "time: 5.3055737018585205\n"
     ]
    }
   ],
   "source": [
    "sum_hd_filesize = os.path.getsize(encrypt_file_source)\n",
    "print(\"File Size: %sB\"%(prefix(sum_hd_filesize, decimal=2)))\n",
    "start_time = time.time()\n",
    "aes_hw.enqueue_file(file=encrypt_file_source+'.encrypt')\n",
    "aes_hw.start_decrypt_schedule()\n",
    "end_time = time.time()\n",
    "sum_hd_duration = end_time - start_time\n",
    "print(f\"time: {sum_hd_duration}\")"
   ]
  },
  {
   "cell_type": "markdown",
   "id": "276dac2c",
   "metadata": {},
   "source": [
    "###### Checksum"
   ]
  },
  {
   "cell_type": "code",
   "execution_count": 32,
   "id": "e4a9d9b1",
   "metadata": {},
   "outputs": [
    {
     "name": "stdout",
     "output_type": "stream",
     "text": [
      "d23ecd9aa176ee800ae0b73d383dcc75  /mnt/usb/testFile/TEST_MB_050\n",
      "\n",
      "e9778ec68a92e52fb7c64deea39d03bd  /mnt/usb/testFile/TEST_MB_050.encrypt\n",
      "\n",
      "d23ecd9aa176ee800ae0b73d383dcc75  /mnt/usb/testFile/TEST_MB_050.encrypt.decrypt\n",
      "\n"
     ]
    }
   ],
   "source": [
    "sum_ho_md5 = cmd(\"md5sum %s\"%(encrypt_file_source))\n",
    "print(sum_ho_md5)\n",
    "sum_ho_md5 = sum_ho_md5.split(\" \")[0]\n",
    "sum_he_md5 = cmd(\"md5sum %s\"%(encrypt_file_source+'.encrypt'))\n",
    "print(sum_he_md5)\n",
    "sum_he_md5 = sum_he_md5.split(\" \")[0]\n",
    "sum_hd_md5 = cmd(\"md5sum %s\"%(encrypt_file_source+'.encrypt'+'.decrypt'))\n",
    "print(sum_hd_md5)\n",
    "sum_hd_md5 = sum_hd_md5.split(\" \")[0]"
   ]
  },
  {
   "cell_type": "markdown",
   "id": "016335fe",
   "metadata": {},
   "source": [
    "###### Delete files"
   ]
  },
  {
   "cell_type": "code",
   "execution_count": 33,
   "id": "a7ab0f45",
   "metadata": {},
   "outputs": [
    {
     "name": "stdout",
     "output_type": "stream",
     "text": [
      "\n",
      "\n"
     ]
    }
   ],
   "source": [
    "print(cmd(\"rm -f %s\"%(encrypt_file_source+'.encrypt')))\n",
    "print(cmd(\"rm -f %s\"%(encrypt_file_source+'.encrypt'+'.decrypt')))"
   ]
  },
  {
   "cell_type": "markdown",
   "id": "d610b457",
   "metadata": {},
   "source": [
    "###### Free memory"
   ]
  },
  {
   "cell_type": "code",
   "execution_count": 34,
   "id": "eb9eb11b",
   "metadata": {},
   "outputs": [
    {
     "data": {
      "text/plain": [
       "148"
      ]
     },
     "execution_count": 34,
     "metadata": {},
     "output_type": "execute_result"
    }
   ],
   "source": [
    "del ol\n",
    "del aes_hw\n",
    "gc.collect()"
   ]
  },
  {
   "cell_type": "markdown",
   "id": "f259ad48",
   "metadata": {},
   "source": [
    "## ========================================="
   ]
  },
  {
   "cell_type": "markdown",
   "id": "184b1e5a",
   "metadata": {},
   "source": [
    "## Summary"
   ]
  },
  {
   "cell_type": "markdown",
   "id": "58b22ac7",
   "metadata": {},
   "source": [
    "#### Information"
   ]
  },
  {
   "cell_type": "code",
   "execution_count": 35,
   "id": "90d6fec6",
   "metadata": {},
   "outputs": [
    {
     "name": "stdout",
     "output_type": "stream",
     "text": [
      "Target File          /mnt/usb/testFile/TEST_MB_050                                                   \n",
      "File Size            52.428800 MB                                                                    \n"
     ]
    }
   ],
   "source": [
    "print('%-20s %-80s'%('Target File', encrypt_file_source))\n",
    "print('%-20s %-80s'%('File Size', prefix(os.path.getsize(encrypt_file_source),decimal=-1)+'B'))"
   ]
  },
  {
   "cell_type": "markdown",
   "id": "1906bb19",
   "metadata": {},
   "source": [
    "#### Performance"
   ]
  },
  {
   "cell_type": "code",
   "execution_count": 36,
   "id": "aa9aaca0",
   "metadata": {},
   "outputs": [
    {
     "name": "stdout",
     "output_type": "stream",
     "text": [
      "                     Software EN     Software DE     Hardware EN     Hardware DE    \n",
      "Handle File Size     52.428800 MB    52.428816 MB    52.428800 MB    52.428800 MB   \n",
      "Duration             8.9055          7.8159          4.5123          5.3056         \n",
      "Bytes/s              5.89 MB/s       6.71 MB/s       11.62 MB/s      9.88 MB/s      \n"
     ]
    }
   ],
   "source": [
    "print('%-20s %-15s %-15s %-15s %-15s'%('', 'Software EN', 'Software DE', 'Hardware EN', 'Hardware DE'))\n",
    "print('%-20s %-15s %-15s %-15s %-15s'%('Handle File Size', prefix(sum_se_filesize,decimal=-1)+'B', prefix(sum_sd_filesize,decimal=-1)+'B', prefix(sum_he_filesize,decimal=-1)+'B', prefix(sum_hd_filesize,decimal=-1)+'B'))\n",
    "print('%-20s %-15.4f %-15.4f %-15.4f %-15.4f'%('Duration', sum_se_duration, sum_sd_duration, sum_he_duration, sum_hd_duration))\n",
    "print('%-20s %-15s %-15s %-15s %-15s'%('Bytes/s', prefix(sum_se_filesize/sum_se_duration)+'B/s', prefix(sum_sd_filesize/sum_sd_duration)+'B/s', prefix(sum_he_filesize/sum_he_duration)+'B/s', prefix(sum_hd_filesize/sum_hd_duration)+'B/s'))"
   ]
  },
  {
   "cell_type": "markdown",
   "id": "c8a10447",
   "metadata": {},
   "source": [
    "#### Correctness"
   ]
  },
  {
   "cell_type": "code",
   "execution_count": 37,
   "id": "b656f166",
   "metadata": {},
   "outputs": [
    {
     "name": "stdout",
     "output_type": "stream",
     "text": [
      "MD5 Checksum    Software                            Hardware                                   \n",
      "Source File     d23ecd9aa176ee800ae0b73d383dcc75    d23ecd9aa176ee800ae0b73d383dcc75    PASS   \n",
      "Encrypted       e9778ec68a92e52fb7c64deea39d03bd    e9778ec68a92e52fb7c64deea39d03bd    PASS   \n",
      "Recovery        d23ecd9aa176ee800ae0b73d383dcc75    d23ecd9aa176ee800ae0b73d383dcc75    PASS   \n",
      "                PASS                                PASS                                       \n"
     ]
    }
   ],
   "source": [
    "print('%-15s %-35s %-35s %-7s'%('MD5 Checksum', 'Software', 'Hardware', ''))\n",
    "print('%-15s %-35s %-35s %-7s'%('Source File', sum_so_md5, sum_ho_md5, pass_fail(sum_so_md5==sum_ho_md5)))\n",
    "print('%-15s %-35s %-35s %-7s'%('Encrypted', sum_se_md5, sum_he_md5, pass_fail(sum_se_md5==sum_he_md5)))\n",
    "print('%-15s %-35s %-35s %-7s'%('Recovery', sum_sd_md5, sum_hd_md5, pass_fail(sum_sd_md5==sum_hd_md5)))\n",
    "print('%-15s %-35s %-35s %-7s'%('', pass_fail(sum_so_md5==sum_sd_md5), pass_fail(sum_ho_md5==sum_hd_md5), ''))"
   ]
  },
  {
   "cell_type": "markdown",
   "id": "764fd3c4",
   "metadata": {},
   "source": [
    "## ========================================="
   ]
  }
 ],
 "metadata": {
  "kernelspec": {
   "display_name": "Python 3",
   "language": "python",
   "name": "python3"
  },
  "language_info": {
   "codemirror_mode": {
    "name": "ipython",
    "version": 3
   },
   "file_extension": ".py",
   "mimetype": "text/x-python",
   "name": "python",
   "nbconvert_exporter": "python",
   "pygments_lexer": "ipython3",
   "version": "3.8.2"
  }
 },
 "nbformat": 4,
 "nbformat_minor": 5
}
